{
  "cells": [
    {
      "cell_type": "markdown",
      "metadata": {
        "id": "6Drjnd6YgltV"
      },
      "source": [
        "# AutoGen Demo"
      ]
    },
    {
      "cell_type": "code",
      "execution_count": 1,
      "metadata": {
        "colab": {
          "base_uri": "https://localhost:8080/"
        },
        "id": "kiHwV9OtXeVs",
        "outputId": "abbbd1a2-118f-4464-adfb-c4119a02c6e7"
      },
      "outputs": [
        {
          "name": "stdout",
          "output_type": "stream",
          "text": [
            "Mounted at /content/drive\n"
          ]
        }
      ],
      "source": [
        "# To get stored prompts for later use\n",
        "from google.colab import drive\n",
        "drive.mount('/content/drive')"
      ]
    },
    {
      "cell_type": "markdown",
      "metadata": {
        "id": "HQwzF_JZg7_c"
      },
      "source": [
        "## Install Important Python modules"
      ]
    },
    {
      "cell_type": "code",
      "execution_count": 2,
      "metadata": {
        "colab": {
          "base_uri": "https://localhost:8080/"
        },
        "id": "57Ii0MN4Ci0Z",
        "outputId": "7bda356f-2846-46cf-8d57-bac9bbd8e892"
      },
      "outputs": [
        {
          "name": "stdout",
          "output_type": "stream",
          "text": [
            "\u001b[2K     \u001b[90m━━━━━━━━━━━━━━━━━━━━━━━━━━━━━━━━━━━━━━━━\u001b[0m \u001b[32m304.9/304.9 kB\u001b[0m \u001b[31m6.0 MB/s\u001b[0m eta \u001b[36m0:00:00\u001b[0m\n",
            "\u001b[2K     \u001b[90m━━━━━━━━━━━━━━━━━━━━━━━━━━━━━━━━━━━━━━━━\u001b[0m \u001b[32m6.3/6.3 MB\u001b[0m \u001b[31m49.8 MB/s\u001b[0m eta \u001b[36m0:00:00\u001b[0m\n",
            "\u001b[2K     \u001b[90m━━━━━━━━━━━━━━━━━━━━━━━━━━━━━━━━━━━━━━━━\u001b[0m \u001b[32m325.7/325.7 kB\u001b[0m \u001b[31m26.1 MB/s\u001b[0m eta \u001b[36m0:00:00\u001b[0m\n",
            "\u001b[2K     \u001b[90m━━━━━━━━━━━━━━━━━━━━━━━━━━━━━━━━━━━━━━━━\u001b[0m \u001b[32m975.5/975.5 kB\u001b[0m \u001b[31m36.4 MB/s\u001b[0m eta \u001b[36m0:00:00\u001b[0m\n",
            "\u001b[2K     \u001b[90m━━━━━━━━━━━━━━━━━━━━━━━━━━━━━━━━━━━━━━━━\u001b[0m \u001b[32m45.9/45.9 kB\u001b[0m \u001b[31m4.4 MB/s\u001b[0m eta \u001b[36m0:00:00\u001b[0m\n",
            "\u001b[2K     \u001b[90m━━━━━━━━━━━━━━━━━━━━━━━━━━━━━━━━━━━━━━━━\u001b[0m \u001b[32m2.2/2.2 MB\u001b[0m \u001b[31m58.1 MB/s\u001b[0m eta \u001b[36m0:00:00\u001b[0m\n",
            "\u001b[2K     \u001b[90m━━━━━━━━━━━━━━━━━━━━━━━━━━━━━━━━━━━━━━━━\u001b[0m \u001b[32m45.5/45.5 kB\u001b[0m \u001b[31m4.3 MB/s\u001b[0m eta \u001b[36m0:00:00\u001b[0m\n",
            "\u001b[2K     \u001b[90m━━━━━━━━━━━━━━━━━━━━━━━━━━━━━━━━━━━━━━━━\u001b[0m \u001b[32m147.8/147.8 kB\u001b[0m \u001b[31m14.0 MB/s\u001b[0m eta \u001b[36m0:00:00\u001b[0m\n",
            "\u001b[2K     \u001b[90m━━━━━━━━━━━━━━━━━━━━━━━━━━━━━━━━━━━━━━━━\u001b[0m \u001b[32m296.7/296.7 kB\u001b[0m \u001b[31m23.8 MB/s\u001b[0m eta \u001b[36m0:00:00\u001b[0m\n",
            "\u001b[2K     \u001b[90m━━━━━━━━━━━━━━━━━━━━━━━━━━━━━━━━━━━━━━━━\u001b[0m \u001b[32m328.3/328.3 kB\u001b[0m \u001b[31m27.7 MB/s\u001b[0m eta \u001b[36m0:00:00\u001b[0m\n",
            "\u001b[2K     \u001b[90m━━━━━━━━━━━━━━━━━━━━━━━━━━━━━━━━━━━━━━━━\u001b[0m \u001b[32m1.1/1.1 MB\u001b[0m \u001b[31m45.5 MB/s\u001b[0m eta \u001b[36m0:00:00\u001b[0m\n",
            "\u001b[2K     \u001b[90m━━━━━━━━━━━━━━━━━━━━━━━━━━━━━━━━━━━━━━━━\u001b[0m \u001b[32m88.3/88.3 kB\u001b[0m \u001b[31m7.5 MB/s\u001b[0m eta \u001b[36m0:00:00\u001b[0m\n",
            "\u001b[2K     \u001b[90m━━━━━━━━━━━━━━━━━━━━━━━━━━━━━━━━━━━━━━━━\u001b[0m \u001b[32m75.6/75.6 kB\u001b[0m \u001b[31m9.0 MB/s\u001b[0m eta \u001b[36m0:00:00\u001b[0m\n",
            "\u001b[2K     \u001b[90m━━━━━━━━━━━━━━━━━━━━━━━━━━━━━━━━━━━━━━━━\u001b[0m \u001b[32m40.0/40.0 kB\u001b[0m \u001b[31m4.7 MB/s\u001b[0m eta \u001b[36m0:00:00\u001b[0m\n",
            "\u001b[2K     \u001b[90m━━━━━━━━━━━━━━━━━━━━━━━━━━━━━━━━━━━━━━━━\u001b[0m \u001b[32m223.8/223.8 kB\u001b[0m \u001b[31m24.7 MB/s\u001b[0m eta \u001b[36m0:00:00\u001b[0m\n",
            "\u001b[2K     \u001b[90m━━━━━━━━━━━━━━━━━━━━━━━━━━━━━━━━━━━━━━━━\u001b[0m \u001b[32m2.3/2.3 MB\u001b[0m \u001b[31m49.8 MB/s\u001b[0m eta \u001b[36m0:00:00\u001b[0m\n",
            "\u001b[2K     \u001b[90m━━━━━━━━━━━━━━━━━━━━━━━━━━━━━━━━━━━━━━━━\u001b[0m \u001b[32m177.4/177.4 kB\u001b[0m \u001b[31m18.3 MB/s\u001b[0m eta \u001b[36m0:00:00\u001b[0m\n",
            "\u001b[2K     \u001b[90m━━━━━━━━━━━━━━━━━━━━━━━━━━━━━━━━━━━━━━━━\u001b[0m \u001b[32m3.4/3.4 MB\u001b[0m \u001b[31m78.0 MB/s\u001b[0m eta \u001b[36m0:00:00\u001b[0m\n",
            "\u001b[2K     \u001b[90m━━━━━━━━━━━━━━━━━━━━━━━━━━━━━━━━━━━━━━━━\u001b[0m \u001b[32m337.4/337.4 kB\u001b[0m \u001b[31m30.0 MB/s\u001b[0m eta \u001b[36m0:00:00\u001b[0m\n",
            "\u001b[2K     \u001b[90m━━━━━━━━━━━━━━━━━━━━━━━━━━━━━━━━━━━━━━━━\u001b[0m \u001b[32m127.5/127.5 kB\u001b[0m \u001b[31m13.4 MB/s\u001b[0m eta \u001b[36m0:00:00\u001b[0m\n",
            "\u001b[2K     \u001b[90m━━━━━━━━━━━━━━━━━━━━━━━━━━━━━━━━━━━━━━━━\u001b[0m \u001b[32m49.2/49.2 kB\u001b[0m \u001b[31m5.0 MB/s\u001b[0m eta \u001b[36m0:00:00\u001b[0m\n",
            "\u001b[2K     \u001b[90m━━━━━━━━━━━━━━━━━━━━━━━━━━━━━━━━━━━━━━━━\u001b[0m \u001b[32m309.3/309.3 kB\u001b[0m \u001b[31m28.9 MB/s\u001b[0m eta \u001b[36m0:00:00\u001b[0m\n",
            "\u001b[2K     \u001b[90m━━━━━━━━━━━━━━━━━━━━━━━━━━━━━━━━━━━━━━━━\u001b[0m \u001b[32m77.9/77.9 kB\u001b[0m \u001b[31m8.6 MB/s\u001b[0m eta \u001b[36m0:00:00\u001b[0m\n",
            "\u001b[2K     \u001b[90m━━━━━━━━━━━━━━━━━━━━━━━━━━━━━━━━━━━━━━━━\u001b[0m \u001b[32m58.3/58.3 kB\u001b[0m \u001b[31m6.9 MB/s\u001b[0m eta \u001b[36m0:00:00\u001b[0m\n",
            "\u001b[2K     \u001b[90m━━━━━━━━━━━━━━━━━━━━━━━━━━━━━━━━━━━━━━━━\u001b[0m \u001b[32m141.1/141.1 kB\u001b[0m \u001b[31m15.3 MB/s\u001b[0m eta \u001b[36m0:00:00\u001b[0m\n",
            "\u001b[?25h\u001b[31mERROR: pip's dependency resolver does not currently take into account all the packages that are installed. This behaviour is the source of the following dependency conflicts.\n",
            "cudf-cu12 24.4.1 requires protobuf<5,>=3.20, but you have protobuf 5.27.2 which is incompatible.\n",
            "google-ai-generativelanguage 0.6.4 requires protobuf!=3.20.0,!=3.20.1,!=4.21.0,!=4.21.1,!=4.21.2,!=4.21.3,!=4.21.4,!=4.21.5,<5.0.0dev,>=3.19.5, but you have protobuf 5.27.2 which is incompatible.\n",
            "google-api-core 2.16.2 requires protobuf!=3.20.0,!=3.20.1,!=4.21.0,!=4.21.1,!=4.21.2,!=4.21.3,!=4.21.4,!=4.21.5,<5.0.0.dev0,>=3.19.5, but you have protobuf 5.27.2 which is incompatible.\n",
            "google-cloud-aiplatform 1.57.0 requires protobuf!=3.20.0,!=3.20.1,!=4.21.0,!=4.21.1,!=4.21.2,!=4.21.3,!=4.21.4,!=4.21.5,<5.0.0dev,>=3.19.5, but you have protobuf 5.27.2 which is incompatible.\n",
            "google-cloud-bigquery-connection 1.12.1 requires protobuf!=3.20.0,!=3.20.1,!=4.21.0,!=4.21.1,!=4.21.2,!=4.21.3,!=4.21.4,!=4.21.5,<5.0.0dev,>=3.19.5, but you have protobuf 5.27.2 which is incompatible.\n",
            "google-cloud-bigquery-storage 2.25.0 requires protobuf!=3.20.0,!=3.20.1,!=4.21.0,!=4.21.1,!=4.21.2,!=4.21.3,!=4.21.4,!=4.21.5,<5.0.0dev,>=3.19.5, but you have protobuf 5.27.2 which is incompatible.\n",
            "google-cloud-bigtable 2.24.0 requires protobuf!=3.20.0,!=3.20.1,!=4.21.0,!=4.21.1,!=4.21.2,!=4.21.3,!=4.21.4,!=4.21.5,<5.0.0dev,>=3.19.5, but you have protobuf 5.27.2 which is incompatible.\n",
            "google-cloud-datastore 2.15.2 requires protobuf!=3.20.0,!=3.20.1,!=4.21.0,!=4.21.1,!=4.21.2,!=4.21.3,!=4.21.4,!=4.21.5,<5.0.0dev,>=3.19.5, but you have protobuf 5.27.2 which is incompatible.\n",
            "google-cloud-firestore 2.11.1 requires protobuf!=3.20.0,!=3.20.1,!=4.21.0,!=4.21.1,!=4.21.2,!=4.21.3,!=4.21.4,!=4.21.5,<5.0.0dev,>=3.19.5, but you have protobuf 5.27.2 which is incompatible.\n",
            "google-cloud-functions 1.13.3 requires protobuf!=3.20.0,!=3.20.1,!=4.21.0,!=4.21.1,!=4.21.2,!=4.21.3,!=4.21.4,!=4.21.5,<5.0.0dev,>=3.19.5, but you have protobuf 5.27.2 which is incompatible.\n",
            "google-cloud-iam 2.15.0 requires protobuf!=3.20.0,!=3.20.1,!=4.21.0,!=4.21.1,!=4.21.2,!=4.21.3,!=4.21.4,!=4.21.5,<5.0.0dev,>=3.19.5, but you have protobuf 5.27.2 which is incompatible.\n",
            "google-cloud-language 2.13.3 requires protobuf!=3.20.0,!=3.20.1,!=4.21.0,!=4.21.1,!=4.21.2,!=4.21.3,!=4.21.4,!=4.21.5,<5.0.0dev,>=3.19.5, but you have protobuf 5.27.2 which is incompatible.\n",
            "google-cloud-resource-manager 1.12.3 requires protobuf!=3.20.0,!=3.20.1,!=4.21.0,!=4.21.1,!=4.21.2,!=4.21.3,!=4.21.4,!=4.21.5,<5.0.0dev,>=3.19.5, but you have protobuf 5.27.2 which is incompatible.\n",
            "google-cloud-translate 3.11.3 requires protobuf!=3.20.0,!=3.20.1,!=4.21.0,!=4.21.1,!=4.21.2,!=4.21.3,!=4.21.4,!=4.21.5,<5.0.0dev,>=3.19.5, but you have protobuf 5.27.2 which is incompatible.\n",
            "tensorflow 2.15.0 requires protobuf!=4.21.0,!=4.21.1,!=4.21.2,!=4.21.3,!=4.21.4,!=4.21.5,<5.0.0dev,>=3.20.3, but you have protobuf 5.27.2 which is incompatible.\n",
            "tensorflow-metadata 1.15.0 requires protobuf<4.21,>=3.20.3; python_version < \"3.11\", but you have protobuf 5.27.2 which is incompatible.\u001b[0m\u001b[31m\n",
            "\u001b[2K     \u001b[90m━━━━━━━━━━━━━━━━━━━━━━━━━━━━━━━━━━━━━━━━\u001b[0m \u001b[32m1.1/1.1 MB\u001b[0m \u001b[31m14.3 MB/s\u001b[0m eta \u001b[36m0:00:00\u001b[0m\n",
            "\u001b[?25h\u001b[31mERROR: pip's dependency resolver does not currently take into account all the packages that are installed. This behaviour is the source of the following dependency conflicts.\n",
            "google-ai-generativelanguage 0.6.4 requires protobuf!=3.20.0,!=3.20.1,!=4.21.0,!=4.21.1,!=4.21.2,!=4.21.3,!=4.21.4,!=4.21.5,<5.0.0dev,>=3.19.5, but you have protobuf 3.20.0 which is incompatible.\n",
            "google-api-core 2.16.2 requires protobuf!=3.20.0,!=3.20.1,!=4.21.0,!=4.21.1,!=4.21.2,!=4.21.3,!=4.21.4,!=4.21.5,<5.0.0.dev0,>=3.19.5, but you have protobuf 3.20.0 which is incompatible.\n",
            "google-cloud-aiplatform 1.57.0 requires protobuf!=3.20.0,!=3.20.1,!=4.21.0,!=4.21.1,!=4.21.2,!=4.21.3,!=4.21.4,!=4.21.5,<5.0.0dev,>=3.19.5, but you have protobuf 3.20.0 which is incompatible.\n",
            "google-cloud-bigquery-connection 1.12.1 requires protobuf!=3.20.0,!=3.20.1,!=4.21.0,!=4.21.1,!=4.21.2,!=4.21.3,!=4.21.4,!=4.21.5,<5.0.0dev,>=3.19.5, but you have protobuf 3.20.0 which is incompatible.\n",
            "google-cloud-bigquery-storage 2.25.0 requires protobuf!=3.20.0,!=3.20.1,!=4.21.0,!=4.21.1,!=4.21.2,!=4.21.3,!=4.21.4,!=4.21.5,<5.0.0dev,>=3.19.5, but you have protobuf 3.20.0 which is incompatible.\n",
            "google-cloud-bigtable 2.24.0 requires protobuf!=3.20.0,!=3.20.1,!=4.21.0,!=4.21.1,!=4.21.2,!=4.21.3,!=4.21.4,!=4.21.5,<5.0.0dev,>=3.19.5, but you have protobuf 3.20.0 which is incompatible.\n",
            "google-cloud-datastore 2.15.2 requires protobuf!=3.20.0,!=3.20.1,!=4.21.0,!=4.21.1,!=4.21.2,!=4.21.3,!=4.21.4,!=4.21.5,<5.0.0dev,>=3.19.5, but you have protobuf 3.20.0 which is incompatible.\n",
            "google-cloud-firestore 2.11.1 requires protobuf!=3.20.0,!=3.20.1,!=4.21.0,!=4.21.1,!=4.21.2,!=4.21.3,!=4.21.4,!=4.21.5,<5.0.0dev,>=3.19.5, but you have protobuf 3.20.0 which is incompatible.\n",
            "google-cloud-functions 1.13.3 requires protobuf!=3.20.0,!=3.20.1,!=4.21.0,!=4.21.1,!=4.21.2,!=4.21.3,!=4.21.4,!=4.21.5,<5.0.0dev,>=3.19.5, but you have protobuf 3.20.0 which is incompatible.\n",
            "google-cloud-iam 2.15.0 requires protobuf!=3.20.0,!=3.20.1,!=4.21.0,!=4.21.1,!=4.21.2,!=4.21.3,!=4.21.4,!=4.21.5,<5.0.0dev,>=3.19.5, but you have protobuf 3.20.0 which is incompatible.\n",
            "google-cloud-language 2.13.3 requires protobuf!=3.20.0,!=3.20.1,!=4.21.0,!=4.21.1,!=4.21.2,!=4.21.3,!=4.21.4,!=4.21.5,<5.0.0dev,>=3.19.5, but you have protobuf 3.20.0 which is incompatible.\n",
            "google-cloud-resource-manager 1.12.3 requires protobuf!=3.20.0,!=3.20.1,!=4.21.0,!=4.21.1,!=4.21.2,!=4.21.3,!=4.21.4,!=4.21.5,<5.0.0dev,>=3.19.5, but you have protobuf 3.20.0 which is incompatible.\n",
            "google-cloud-translate 3.11.3 requires protobuf!=3.20.0,!=3.20.1,!=4.21.0,!=4.21.1,!=4.21.2,!=4.21.3,!=4.21.4,!=4.21.5,<5.0.0dev,>=3.19.5, but you have protobuf 3.20.0 which is incompatible.\n",
            "googleapis-common-protos 1.63.2 requires protobuf!=3.20.0,!=3.20.1,!=4.21.1,!=4.21.2,!=4.21.3,!=4.21.4,!=4.21.5,<6.0.0.dev0,>=3.20.2, but you have protobuf 3.20.0 which is incompatible.\n",
            "grpc-google-iam-v1 0.13.1 requires protobuf!=4.21.1,!=4.21.2,!=4.21.3,!=4.21.4,!=4.21.5,<6.0.0dev,>=3.20.2, but you have protobuf 3.20.0 which is incompatible.\n",
            "grpcio-health-checking 1.64.1 requires protobuf<6.0dev,>=5.26.1, but you have protobuf 3.20.0 which is incompatible.\n",
            "grpcio-tools 1.64.1 requires protobuf<6.0dev,>=5.26.1, but you have protobuf 3.20.0 which is incompatible.\n",
            "tensorflow 2.15.0 requires protobuf!=4.21.0,!=4.21.1,!=4.21.2,!=4.21.3,!=4.21.4,!=4.21.5,<5.0.0dev,>=3.20.3, but you have protobuf 3.20.0 which is incompatible.\n",
            "tensorflow-metadata 1.15.0 requires protobuf<4.21,>=3.20.3; python_version < \"3.11\", but you have protobuf 3.20.0 which is incompatible.\u001b[0m\u001b[31m\n",
            "\u001b[0m"
          ]
        }
      ],
      "source": [
        "!pip install --quiet pyautogen litellm weaviate-client python-Levenshtein langchain langchain-openai langchain-community\n",
        "!pip install --quiet protobuf==3.20.0"
      ]
    },
    {
      "cell_type": "markdown",
      "metadata": {
        "id": "Dhc0L_zUhRLT"
      },
      "source": [
        "## Load the environment keys"
      ]
    },
    {
      "cell_type": "code",
      "execution_count": 3,
      "metadata": {
        "id": "fqrIC7qEUDw3"
      },
      "outputs": [],
      "source": [
        "from google.colab import userdata\n",
        "import os\n",
        "key = userdata.get(\"TENOPENAI\")\n",
        "os.environ[\"OPENAI_API_KEY\"] = userdata.get(\"TENOPENAI\")"
      ]
    },
    {
      "cell_type": "markdown",
      "metadata": {
        "id": "CnZqZMJKhzx5"
      },
      "source": [
        "## Import required modules"
      ]
    },
    {
      "cell_type": "code",
      "execution_count": 4,
      "metadata": {
        "id": "QqzzJZBFUDzN"
      },
      "outputs": [],
      "source": [
        "import json\n",
        "import autogen\n",
        "from langchain_community.vectorstores import Weaviate\n",
        "from langchain.chains.query_constructor.base import AttributeInfo\n",
        "from langchain_openai import OpenAI\n",
        "from langchain_openai import ChatOpenAI, OpenAIEmbeddings\n",
        "\n",
        "from litellm import embedding as test_embedding\n",
        "import weaviate\n",
        "from typing import List, Union, Dict, Annotated\n",
        "import os"
      ]
    },
    {
      "cell_type": "markdown",
      "metadata": {
        "id": "nM2ujDdZiYUB"
      },
      "source": [
        "## setup"
      ]
    },
    {
      "cell_type": "code",
      "execution_count": 5,
      "metadata": {
        "id": "V7OxFR43UD1U"
      },
      "outputs": [],
      "source": [
        "chat_model = \"gpt-4o\"\n",
        "config_list = [{\"model\": chat_model, \"api_key\": os.environ[\"OPENAI_API_KEY\"]}]\n",
        "Tasks = ['SIMPLE QUESTION ANSWERING', 'REQUIREMENT GATHERING']\n",
        "retriever_llm = \"gpt-3.5-turbo-instruct\"\n",
        "embeddings = OpenAIEmbeddings(model=\"text-embedding-3-small\")"
      ]
    },
    {
      "cell_type": "code",
      "execution_count": 58,
      "metadata": {
        "id": "HDzO_uvGf_F_"
      },
      "outputs": [],
      "source": [
        "import Levenshtein\n",
        "import uuid\n",
        "import re\n",
        "\n",
        "def find_best_match(input_string, string_list):\n",
        "    best_match = None\n",
        "    best_score = float('inf')  # Lower score means better match\n",
        "\n",
        "    for string in string_list:\n",
        "        score = Levenshtein.distance(input_string, string)\n",
        "        if score < best_score:\n",
        "            best_score = score\n",
        "            best_match = string\n",
        "\n",
        "    return best_match\n",
        "\n",
        "def read_file(file_name):\n",
        "  file = open(\"/content/drive/MyDrive/Assistant10acad/prompts/\" + file_name + \".txt\", \"r\")\n",
        "  content = file.read()\n",
        "  file.close()\n",
        "  return content\n",
        "\n",
        "\n",
        "def create_vector_store(db_name):\n",
        "  # vectorstore = Weaviate.from_documents(\n",
        "  #     docs, embeddings, weaviate_url=\"https://test-kgmj8oyo.weaviate.network\", index_name=db_name\n",
        "  #     ,uuids=uuids\n",
        "  # )\n",
        "\n",
        "  client = weaviate.Client(url=userdata.get(\"ITALYLAWDB\"))\n",
        "  vectorstore = Weaviate(client, db_name , \"text\",embeddings,by_text=False)\n",
        "  return vectorstore\n",
        "\n",
        "def choose_retriever_types(retriever_type,vector_store):\n",
        "  metadata_field_info = [\n",
        "      AttributeInfo(\n",
        "          name=\"codename\",\n",
        "          description=\"The 'Code' name of where the article lies. It is a section or part in a law.\",\n",
        "          type=\"string or list[string]\",\n",
        "      ),\n",
        "      AttributeInfo(\n",
        "          name=\"articlenumber\",\n",
        "          description=\"Article Number that the context is found at.\",\n",
        "          type=\"string\",\n",
        "      )\n",
        "  ]\n",
        "  document_content_description = \"Articles of Italian law within each seaction of the law called 'Codes'\"\n",
        "  llm = OpenAI(model=retriever_llm,temperature=0)\n",
        "  # if retriever_type == \"self_query\":\n",
        "  #   retriever = SelfQueryRetriever.from_llm(\n",
        "  #       llm, vector_store, document_content_description, metadata_field_info, verbose=True\n",
        "  #   )\n",
        "  if retriever_type == \"vector_query_only\":\n",
        "    retriever = vector_store.as_retriever()\n",
        "  # if retriever_type == \"compressor\":\n",
        "  #    compressor_model = OpenAI(llm=retriever_llm,temperature=0);\n",
        "  #    baseCompressor = LLMChainExtractor.fromLLM(compressor_model)\n",
        "  #    retriever = ContextualCompressionRetriever(base_compressor=baseCompressor, base_retriever=vector_store.as_retriever());\n",
        "\n",
        "  return retriever\n",
        "\n",
        "def clean_json_string(json_string):\n",
        "    pattern = r'^```json\\s*(.*?)\\s*```$'\n",
        "    cleaned_string = re.sub(pattern, r'\\1', json_string, flags=re.DOTALL)\n",
        "    return cleaned_string.strip()\n",
        "\n",
        "def divide_string(s):\n",
        "    # Initialize a list to store the substrings\n",
        "    substrings = []\n",
        "\n",
        "    # Loop through the string, slicing 1500 characters at a time\n",
        "    for i in range(0, len(s), 1500):\n",
        "        substrings.append(s[i:i + 1500])\n",
        "\n",
        "    return substrings"
      ]
    },
    {
      "cell_type": "markdown",
      "metadata": {
        "id": "YnXc6n2-jGUz"
      },
      "source": [
        "## worker and worker function"
      ]
    },
    {
      "cell_type": "code",
      "execution_count": 59,
      "metadata": {
        "id": "EQBHOMqYdvXI"
      },
      "outputs": [],
      "source": [
        "from collections import defaultdict\n",
        "import datetime\n",
        "timer_array = []\n",
        "\n",
        "worker = autogen.AssistantAgent(\n",
        "    name=\"worker\",\n",
        "    llm_config={\"config_list\": config_list, \"cache_seed\":42},\n",
        "    code_execution_config=False,\n",
        "\n",
        "    # the default system message of the AssistantAgent is overwritten here\n",
        "    system_message=\"You are a helpful AI worker. You are a worker agent who does exactly what you are told to do.\",\n",
        ")\n",
        "\n",
        "vectorstore = create_vector_store(\"Civil_Articles\")\n",
        "retriever = choose_retriever_types(\"vector_query_only\",vectorstore)\n",
        "\n",
        "def ask_worker(message , message_type, retrival):\n",
        "    try:\n",
        "      print(f\"************** {message_type} *************************\")\n",
        "      print(message)\n",
        "      print(retrival)\n",
        "      # print(timer_array)\n",
        "      timer_array.append([datetime.datetime.now(),assistant.get_total_usage()[\"gpt-4o-2024-05-13\"][\"prompt_tokens\"],assistant.get_total_usage()[\"gpt-4o-2024-05-13\"][\"completion_tokens\"],\"assistant\"])\n",
        "      best_match = find_best_match(message_type, Tasks)\n",
        "\n",
        "      prompt = read_file(best_match)\n",
        "\n",
        "      context = \"\"\n",
        "      if retrival == \"TRUE\":\n",
        "        try:\n",
        "          print(\"retrival started\")\n",
        "          context = \"\\n \" + \"Important laws to achieve the tasks: \" + str(retriever.invoke(message))\n",
        "          print(\"retrival ended\")\n",
        "        except:\n",
        "          print(\"retrival failed\")\n",
        "          # context = \"\"\n",
        "\n",
        "      if prompt != '':\n",
        "        worker.update_system_message(prompt)\n",
        "        worker.llm_config = {\"config_list\": config_list, \"response_format\":{ \"type\": \"json_object\" }}\n",
        "        print(\"Prompt found for \"+ message_type)\n",
        "        # print(prompt + message + context)\n",
        "      prepared_message = [{'content':  message + context ,  'role': 'assistant'}]\n",
        "      print(\" ************** Fully Prepared Worker Context *************************\")\n",
        "      print(prepared_message[0][\"content\"])\n",
        "      print(\" ************** Fully Prepared Worker Context *************************\")\n",
        "      # print(prepared_message\n",
        "      history = defaultdict(list, {})\n",
        "      worker._oai_messages = history\n",
        "      result = worker.generate_reply(messages=prepared_message)\n",
        "      # print(worker.chat_messages)\n",
        "\n",
        "      timer_array.append([datetime.datetime.now(),worker.get_total_usage()[\"gpt-4o-2024-05-13\"][\"prompt_tokens\"],worker.get_total_usage()[\"gpt-4o-2024-05-13\"][\"completion_tokens\"],message_type])\n",
        "\n",
        "      return result\n",
        "    except Exception as e:\n",
        "      print(e)\n",
        "      return \"Function Error\""
      ]
    },
    {
      "cell_type": "markdown",
      "metadata": {
        "id": "PMGYrtK7jUrX"
      },
      "source": [
        "# Creating our Assistant Agent and User Proxy"
      ]
    },
    {
      "cell_type": "code",
      "execution_count": 60,
      "metadata": {
        "id": "rJj-Pi7uUD3U"
      },
      "outputs": [],
      "source": [
        "# - If the database retrieval does not provide important laws for the task, inform the user that you were not able to find the relevant law at that moment.\n",
        "assistant = autogen.AssistantAgent(\n",
        "    name=\"assistant\",\n",
        "    code_execution_config=False,\n",
        "    system_message=\n",
        "    \"\"\"\n",
        "    You are a Legal Assistant with advanced capabilities to solve complex problems. Your primary objective is to plan steps to appropriately solve users'\\\n",
        "     requests or tasks using worker function calling.\n",
        "\n",
        "    The main problems you will be solving include:\n",
        "    - Answering law questions\n",
        "\n",
        "    Available Workers:\n",
        "        - REQUIREMENT GATHERING - will enable you to ask relevant questions to the user based on the task\n",
        "        - SIMPLE QUESTION ANSWERING - will enable you to answer simple questions and law retrievals to the user based on the task\n",
        "\n",
        "    Your tasks:\n",
        "    1. Outline the steps required to address the user's request.\n",
        "    2. Use the `ask_worker` function to delegate each step, ensuring it returns the results upon task completion.\n",
        "    3. VERY IMPORTANT: Before you return any result ensure that you do not need worker skills to perform a task.\n",
        "\n",
        "    Key guidelines:\n",
        "    - ALWAYS use the ask_worker function for different tasks and send it only the most important instructions and commands.\n",
        "    - FORCE the ask_worker function to only give you the answer for your request without adding explanation or guidance what it achieved.\n",
        "    - Give the worker the advantage of article retrival where it will get the latest laws regarding the task and be able to accomplish the task.\n",
        "    - If results are based on an article or law codes, mention the articles in your response and the worker's response so that the user can verify the information.\n",
        "    - DO NOT forget to put TERMINATE at the end, If you want feedback from user\n",
        "\n",
        "    Communication:\n",
        "    - Your answer should be constructed in the given language the user used to ask.\n",
        "    - Before responding to the user make sure you used all the skills the worker function provides.\n",
        "    - When communicating with the Worker make sure to send The most Important context to it.\n",
        "\n",
        "    If you need to ask the user a question or you have finished the task add TERMINATE at the end.\n",
        "    MUST - If the user send you an empty message just return your previous message and add TERMINATE at the end.\n",
        "    \"\"\",\n",
        "\n",
        "    llm_config={\n",
        "        \"temperature\": 0,\n",
        "        \"timeout\": 600,\n",
        "        \"cache_seed\": 42,\n",
        "        \"config_list\": config_list,\n",
        "        \"functions\": [\n",
        "             {\n",
        "                        \"name\": \"ask_worker\",\n",
        "                        \"description\": \"ask worker to:  1. generate questions for requirement gathering, 2. retrieve relevant laws based on the topic sent as message\",\n",
        "                        \"parameters\": {\n",
        "                            \"type\": \"object\",\n",
        "                            \"properties\": {\n",
        "                                \"message\": {\n",
        "                                    \"type\": \"string\",\n",
        "                                    \"description\": \"question to ask worker. Make sure the question include enough context, such as the required task. The worker does not know the conversation between you and the user, unless you share the conversation with the worker. Ensure the original question of the user is also passed as context such that the worker is generating intermediate steps necessary to address it. It is VERY IMPORTANT that you provide a clear and autoritative feedback to the worker to stay focused on answering the original question. If the worker is wandering off from the mission, terminate!\"\n",
        "                                },\n",
        "                                \"message_type\": {\n",
        "                                    \"type\": \"string\",\n",
        "                                    \"description\": \"Type of work you want it to achieve. Options are: 'REQUIREMENT GATHERING','SIMPLE QUESTION ANSWERING'\"\n",
        "                                },\n",
        "                                \"retrival\":{\n",
        "                                    \"type\": \"string\",\n",
        "                                    \"description\": \"Becomes 'TRUE' or 'FALSE' which would indicate to perform retrieval of relevant articles from the law to achieve the task\"\n",
        "                                },\n",
        "                            },\n",
        "                            \"required\": [\"message\",\"message_type\",\"retrival\"]\n",
        "                        }\n",
        "                        }\n",
        "        ],\n",
        "    },\n",
        ")\n",
        "\n",
        "def termination_msg(x):\n",
        "    return isinstance(x, dict) and \"TERMINATE\" == str(x.get(\"content\", \"\"))[-9:].upper()\n",
        "\n",
        "\n",
        "# create a UserProxyAgent instance named \"user_proxy\"\n",
        "user_proxy = autogen.UserProxyAgent(\n",
        "    name=\"user_proxy\",\n",
        "    is_termination_msg=termination_msg,\n",
        "    human_input_mode=\"NEVER\",\n",
        "    max_consecutive_auto_reply=3,\n",
        "    # is_termination_msg=lambda x: \"content\" in x and x[\"content\"] is not None and x[\"content\"].rstrip().endswith(\"TERMINATE\"),\n",
        "    # code_execution_config={\"work_dir\": \"planning\"},\n",
        "    function_map={\"ask_worker\": ask_worker },\n",
        ")\n"
      ]
    },
    {
      "cell_type": "markdown",
      "metadata": {
        "id": "B6Ll-FktjllE"
      },
      "source": [
        "## Setup Chat Environment"
      ]
    },
    {
      "cell_type": "code",
      "execution_count": 61,
      "metadata": {
        "id": "Ur5CqGqyUD5y"
      },
      "outputs": [],
      "source": [
        "def chat_with_agent(message):\n",
        "  # combined_message, lang = translate_to_dest(message,\"en\")\n",
        "  user_proxy.initiate_chat(\n",
        "      assistant,\n",
        "      clear_history=False,\n",
        "      silent=True,\n",
        "      message=message\n",
        "  )\n",
        "  last_message = [messages for agent, messages in user_proxy.chat_messages.items()][0][-1][\"content\"].replace(\"TERMINATE\" , \"\")\n",
        "  # result_message, lang = translate_to_dest(last_message, lang)\n",
        "  # print(result_message)\n",
        "  print(last_message)"
      ]
    },
    {
      "cell_type": "code",
      "execution_count": 62,
      "metadata": {
        "colab": {
          "base_uri": "https://localhost:8080/",
          "height": 766,
          "referenced_widgets": [
            "b671edd5c9c441489ccbb630be24a0c3",
            "bc7d2978452643d0b29b97fc7c5b9c63",
            "d72f12771e0f4c16955354cf30d328ed",
            "a763e20d06594c029c9afa0a30feab51",
            "c5c46ef23730485d8fd3719f66339e8f",
            "34cceebab14c49fea1e1199cde1ff35e"
          ]
        },
        "id": "GIlwWODWqI5V",
        "outputId": "861921c8-a9ae-4ae7-9a3a-2d73e526599d"
      },
      "outputs": [
        {
          "data": {
            "application/vnd.jupyter.widget-view+json": {
              "model_id": "b671edd5c9c441489ccbb630be24a0c3",
              "version_major": 2,
              "version_minor": 0
            },
            "text/plain": [
              "Text(value='', description='Chat:', placeholder='Type your message')"
            ]
          },
          "metadata": {},
          "output_type": "display_data"
        },
        {
          "name": "stdout",
          "output_type": "stream",
          "text": [
            "\n",
            ">>>>>>>> EXECUTING FUNCTION ask_worker...\n",
            "************** SIMPLE QUESTION ANSWERING *************************\n",
            "What does the law say about civil rights and household rights?\n",
            "TRUE\n",
            "retrival started\n",
            "retrival ended\n",
            " ************** Fully Prepared Worker Context *************************\n",
            "What does the law say about civil rights and household rights?\n",
            " Important laws to achieve the tasks: [Document(page_content=\"Testo in vigore dal:\\n \\n\\xa020-9-1975\\n(CODICE CIVILE-art. 143)\\naggiornamenti all'articolo\\n Art. 143. \\n((Diritti e doveri reciproci dei coniugi.))\\n((Con il matrimonio il marito e la moglie acquistano gli stessi diritti e assumono i medesimi doveri. \\n Dal matrimonio deriva l'obbligo reciproco alla fedeltà, all'assistenza morale e materiale, alla collaborazione nell'interesse della famiglia e alla coabitazione. \\n Entrambi i coniugi sono tenuti, ciascuno in relazione alle proprie sostanze e alla propria capacità di lavoro professionale o casalingo, a contribuire ai bisogni della famiglia))\\n. \"), Document(page_content='Testo in vigore dal:\\n \\n\\xa022-7-1976\\n(CODICE CIVILE-art. 45)\\naggiornamenti all\\'articolo\\n Art. 45. \\n Domicilio dei coniugi, del minore e dell\\'interdetto. \\n Ciascuno dei coniugi ha il proprio domicilio nel luogo in cui ha stabilito la sede principale dei propri affari o interessi. \\n((45))\\n \\n Il minore ha il domicilio nel luogo di residenza della famiglia o quello del tutore. Se i genitori sono separati o il loro matrimonio è stato annullato o sciolto o ne sono cessati gli effetti civili o comunque non hanno la stessa residenza, il minore ha il domicilio del genitore con il quale convive. \\n L\\'interdetto ha il domicilio del tutore. \\n--------------\\nAGGIORNAMENTO (45)\\n La Corte Costituzionale, con sentenza 12-14 luglio 1976, n. 171 (in G.U. 1a s.s. 21/7/1976, n. 191) ha dichiarato \"l\\'illegittimità costituzionale dell\\'\\nart. 45 del codice civile\\n, \\nprimo comma\\n (nel testo anteriore alla sostituzione operata dall\\'\\nart. 1 della legge 19 maggio 1975, n. 151\\n), nella parte in cui, in caso di separazione di fatto dei coniugi ed ai fini della competenza per territorio nel giudizio di separazione, prevede che la moglie, la quale abbia fissato altrove la propria residenza, conservi legalmente il domicilio del marito\".'), Document(page_content=\"Testo in vigore dal:\\n \\n\\xa019-4-1942\\n(Disposizioni per l'attuazione del Codice Civile e disposizioni transitorie-art. 203)\\n Art. 203. \\n Le disposizioni contenute nel capo II del titolo IV del libro V del codice si applicano anche ai rapporti di lavoro domestico in corso al giorno dell'entrata in vigore del codice stesso. \"), Document(page_content=\"Testo in vigore dal:\\n \\n\\xa07-2-2014\\n(CODICE CIVILE-art. 337 sexies)\\naggiornamenti all'articolo\\n Art. 337-sexies. \\n((Assegnazione della casa familiare e prescrizioni in tema di residenza))\\n((Il godimento della casa familiare è attribuito tenendo prioritariamente conto dell'interesse dei figli. Dell'assegnazione il giudice tiene conto nella regolazione dei rapporti economici tra i genitori, considerato l'eventuale titolo di proprietà. Il diritto al godimento della casa familiare viene meno nel caso che l'assegnatario non abiti o cessi di abitare stabilmente nella casa familiare o conviva more uxorio o contragga nuovo matrimonio. Il provvedimento di assegnazione e quello di revoca sono trascrivibili e opponibili a terzi ai sensi dell'articolo 2643. \\n In presenza di figli minori, ciascuno dei genitori è obbligato a comunicare all'altro, entro il termine perentorio di trenta giorni, l'avvenuto cambiamento di residenza o di domicilio. La mancata comunicazione obbliga al risarcimento del danno eventualmente verificatosi a carico del coniuge o dei figli per la difficoltà di reperire il soggetto.))\")]\n",
            " ************** Fully Prepared Worker Context *************************\n",
            "The Italian Civil Code outlines several important laws regarding civil rights and household rights. Here are the key points:\n",
            "\n",
            "1. **Diritti e doveri reciproci dei coniugi (Art. 143):**  \n",
            "   - Both husband and wife acquire the same rights and responsibilities with marriage.\n",
            "   - Marriage entails mutual obligations for fidelity, moral and material support, collaboration for the family's interest, and cohabitation.\n",
            "   - Each spouse must contribute to the family's needs according to their own financial resources and professional or domestic work capacity.\n",
            "\n",
            "2. **Domicilio dei coniugi, del minore e dell'interdetto (Art. 45):**  \n",
            "   - Each spouse has their own domicile at the place where they have established the main seat of their affairs or interests.\n",
            "   - A minor has their domicile at the family's residence or the guardian's residence. In cases where parents are separated or the marriage is dissolved/annulled, the minor's domicile is with the parent they live with.\n",
            "   - An interdicted person (someone legally incapacitated) has the domicile of their guardian.\n",
            "\n",
            "3. **Rapporti di lavoro domestico (Art. 203):**  \n",
            "   - Provisions related to the employment relationship apply to domestic work in effect as of the day the Civil Code came into force.\n",
            "\n",
            "4. **Assegnazione della casa familiare e prescrizioni in tema di residenza (Art. 337-sexies):**  \n",
            "   - The enjoyment of the family home is primarily based on the interests of the children.\n",
            "   - The court considers this assignment during the regulation of economic relationships between parents, taking into account property ownership.\n",
            "   - The right to enjoy the family home ceases if the assignee does not live or stops living permanently in the family house, cohabits more uxorio (in a marital-like relationship), or remarries.\n",
            "   - The assignment and revocation orders are recordable and opposable to third parties under Article 2643.\n",
            "   - In the presence of minor children, each parent must notify the other within thirty days of changing residence or domicile. Failure to notify results in the obligation to compensate for any damage to the other spouse or the children due to difficulty finding the parent.\n",
            "\n",
            "These laws are designed to ensure fairness in marriage, responsibility in family contributions, clarity in domicile determination, and prioritization of children's interests in family housing arrangements.\n",
            "\n",
            "\n"
          ]
        },
        {
          "data": {
            "application/vnd.jupyter.widget-view+json": {
              "model_id": "a763e20d06594c029c9afa0a30feab51",
              "version_major": 2,
              "version_minor": 0
            },
            "text/plain": [
              "Text(value='', description='Chat:', placeholder='Type your message')"
            ]
          },
          "metadata": {},
          "output_type": "display_data"
        }
      ],
      "source": [
        "# !pip install ipywidgets\n",
        "import ipywidgets as widgets\n",
        "from IPython.display import display, clear_output\n",
        "\n",
        "# Initialize the list to hold messages\n",
        "messages = []\n",
        "\n",
        "\n",
        "def handle_input(sender):\n",
        "    global messages\n",
        "    user_input = sender.value\n",
        "    messages.append(f\"User: {user_input}\")\n",
        "    chat_with_agent(user_input)\n",
        "    messages.append(\"\")\n",
        "    display_messages()\n",
        "\n",
        "# Function to display messages\n",
        "def display_messages():\n",
        "\n",
        "    text_input = widgets.Text(\n",
        "        value='',\n",
        "        placeholder='Type your message',\n",
        "        description='Chat:',\n",
        "        disabled=False\n",
        "    )\n",
        "    text_input.on_submit(handle_input)\n",
        "    display(text_input)\n",
        "\n",
        "\n",
        "display_messages()"
      ]
    },
    {
      "cell_type": "markdown",
      "metadata": {
        "id": "4y8OhPU2jyWl"
      },
      "source": [
        "## Review chat history and Usage Analysis"
      ]
    },
    {
      "cell_type": "code",
      "execution_count": 49,
      "metadata": {
        "colab": {
          "base_uri": "https://localhost:8080/"
        },
        "id": "RffVZdl6FzTF",
        "outputId": "7dc798b8-f90c-489d-d593-a069cf08306a"
      },
      "outputs": [
        {
          "data": {
            "text/plain": [
              "[[datetime.datetime(2024, 7, 3, 8, 54, 54, 997259), 1331, 51, 'assistant'],\n",
              " [datetime.datetime(2024, 7, 3, 8, 54, 55, 448118),\n",
              "  1002,\n",
              "  483,\n",
              "  'SIMPLE QUESTION ANSWERING'],\n",
              " [datetime.datetime(2024, 7, 3, 8, 55, 24, 840738), 4273, 594, 'assistant'],\n",
              " [datetime.datetime(2024, 7, 3, 8, 55, 25, 314685),\n",
              "  2867,\n",
              "  706,\n",
              "  'SIMPLE QUESTION ANSWERING'],\n",
              " [datetime.datetime(2024, 7, 3, 8, 56, 11, 186184), 10840, 901, 'assistant'],\n",
              " [datetime.datetime(2024, 7, 3, 8, 56, 22, 315474),\n",
              "  3521,\n",
              "  1233,\n",
              "  'REQUIREMENT GATHERING'],\n",
              " [datetime.datetime(2024, 7, 3, 9, 30, 49, 840946), 21199, 1513, 'assistant'],\n",
              " [datetime.datetime(2024, 7, 3, 9, 30, 49, 865193),\n",
              "  4175,\n",
              "  1760,\n",
              "  'REQUIREMENT GATHERING'],\n",
              " [datetime.datetime(2024, 7, 3, 9, 33, 6, 190), 30452, 2100, 'assistant'],\n",
              " [datetime.datetime(2024, 7, 3, 9, 33, 6, 511394),\n",
              "  5464,\n",
              "  1765,\n",
              "  'SIMPLE QUESTION ANSWERING']]"
            ]
          },
          "execution_count": 49,
          "metadata": {},
          "output_type": "execute_result"
        }
      ],
      "source": [
        "timer_array"
      ]
    },
    {
      "cell_type": "code",
      "execution_count": 39,
      "metadata": {
        "colab": {
          "base_uri": "https://localhost:8080/"
        },
        "id": "Uy5VTMPZDJCm",
        "outputId": "65538914-6fd3-4b94-d8a0-f55dd27794b3"
      },
      "outputs": [
        {
          "data": {
            "text/plain": [
              "defaultdict(list,\n",
              "            {<autogen.agentchat.user_proxy_agent.UserProxyAgent at 0x7e9d6371e170>: [{'content': 'hello, how are you.',\n",
              "               'role': 'user'},\n",
              "              {'content': 'Hello! How can I assist you today? TERMINATE',\n",
              "               'role': 'assistant'},\n",
              "              {'content': 'what does the law say about civil rights and household rights ?',\n",
              "               'role': 'user'},\n",
              "              {'function_call': {'arguments': '{\"message\":\"What does the law say about civil rights and household rights?\",\"message_type\":\"SIMPLE QUESTION ANSWERING\",\"retrival\":\"TRUE\"}',\n",
              "                'name': 'ask_worker'},\n",
              "               'content': None,\n",
              "               'role': 'assistant'},\n",
              "              {'content': \"The Italian Civil Code outlines several important laws regarding civil rights and household rights. Here are the key points:\\n\\n1. **Diritti e doveri reciproci dei coniugi (Art. 143):**  \\n   - Both husband and wife acquire the same rights and responsibilities with marriage.\\n   - Marriage entails mutual obligations for fidelity, moral and material support, collaboration for the family's interest, and cohabitation.\\n   - Each spouse must contribute to the family's needs according to their own financial resources and professional or domestic work capacity.\\n\\n2. **Domicilio dei coniugi, del minore e dell'interdetto (Art. 45):**  \\n   - Each spouse has their own domicile at the place where they have established the main seat of their affairs or interests.\\n   - A minor has their domicile at the family's residence or the guardian's residence. In cases where parents are separated or the marriage is dissolved/annulled, the minor's domicile is with the parent they live with.\\n   - An interdicted person (someone legally incapacitated) has the domicile of their guardian.\\n\\n3. **Rapporti di lavoro domestico (Art. 203):**  \\n   - Provisions related to the employment relationship apply to domestic work in effect as of the day the Civil Code came into force.\\n\\n4. **Assegnazione della casa familiare e prescrizioni in tema di residenza (Art. 337-sexies):**  \\n   - The enjoyment of the family home is primarily based on the interests of the children.\\n   - The court considers this assignment during the regulation of economic relationships between parents, taking into account property ownership.\\n   - The right to enjoy the family home ceases if the assignee does not live or stops living permanently in the family house, cohabits more uxorio (in a marital-like relationship), or remarries.\\n   - The assignment and revocation orders are recordable and opposable to third parties under Article 2643.\\n   - In the presence of minor children, each parent must notify the other within thirty days of changing residence or domicile. Failure to notify results in the obligation to compensate for any damage to the other spouse or the children due to difficulty finding the parent.\\n\\nThese laws are designed to ensure fairness in marriage, responsibility in family contributions, clarity in domicile determination, and prioritization of children's interests in family housing arrangements.\",\n",
              "               'name': 'ask_worker',\n",
              "               'role': 'function'},\n",
              "              {'content': \"The law outlines several important aspects regarding civil rights and household rights. Here are the key points:\\n\\n1. **Diritti e doveri reciproci dei coniugi (Art. 143):**  \\n   - Both husband and wife acquire the same rights and responsibilities with marriage.\\n   - Marriage entails mutual obligations for fidelity, moral and material support, collaboration for the family's interest, and cohabitation.\\n   - Each spouse must contribute to the family's needs according to their own financial resources and professional or domestic work capacity.\\n\\n2. **Domicilio dei coniugi, del minore e dell'interdetto (Art. 45):**  \\n   - Each spouse has their own domicile at the place where they have established the main seat of their affairs or interests.\\n   - A minor has their domicile at the family's residence or the guardian's residence. In cases where parents are separated or the marriage is dissolved/annulled, the minor's domicile is with the parent they live with.\\n   - An interdicted person (someone legally incapacitated) has the domicile of their guardian.\\n\\n3. **Rapporti di lavoro domestico (Art. 203):**  \\n   - Provisions related to the employment relationship apply to domestic work in effect as of the day the Civil Code came into force.\\n\\n4. **Assegnazione della casa familiare e prescrizioni in tema di residenza (Art. 337-sexies):**  \\n   - The enjoyment of the family home is primarily based on the interests of the children.\\n   - The court considers this assignment during the regulation of economic relationships between parents, taking into account property ownership.\\n   - The right to enjoy the family home ceases if the assignee does not live or stops living permanently in the family house, cohabits more uxorio (in a marital-like relationship), or remarries.\\n   - The assignment and revocation orders are recordable and opposable to third parties under Article 2643.\\n   - In the presence of minor children, each parent must notify the other within thirty days of changing residence or domicile. Failure to notify results in the obligation to compensate for any damage to the other spouse or the children due to difficulty finding the parent.\\n\\nThese laws are designed to ensure fairness in marriage, responsibility in family contributions, clarity in domicile determination, and prioritization of children's interests in family housing arrangements.\\n\\nIf you have any more specific questions or need further details, feel free to ask! TERMINATE\",\n",
              "               'role': 'assistant'},\n",
              "              {'content': 'So Does Men and Women have equal rights in a household?',\n",
              "               'role': 'user'},\n",
              "              {'function_call': {'arguments': '{\"message\":\"Do men and women have equal rights in a household according to the law?\",\"message_type\":\"SIMPLE QUESTION ANSWERING\",\"retrival\":\"TRUE\"}',\n",
              "                'name': 'ask_worker'},\n",
              "               'content': None,\n",
              "               'role': 'assistant'},\n",
              "              {'content': \"Yes, according to the laws mentioned, men and women have equal rights in a household:\\n\\n1. **Art. 143 of the Civil Code** specifies that both the husband and wife acquire the same rights and duties within the marriage. This includes mutual obligations for fidelity, moral and material support, collaboration in the interest of the family, and cohabitation.\\n\\n2. **Art. 45 of the Civil Code** updates the domicile rule, ensuring each spouse has their domicile, emphasizing equality in terms of residence and jurisdiction.\\n\\n3. **Art. 156 of the Civil Code** addresses the effects of separation on financial relations, ensuring the maintenance rights are determined based on the financial circumstances of both parties. It corrects past biases ensuring no overriding obligation based solely on gender.\\n\\n4. **Art. 540 of the Civil Code** ensures that upon the death of one spouse, the surviving spouse is entitled to half of the deceased spouse's estate, including rights to reside in the family home and use its furnishings.\\n\\nThese laws collectively ensure that men and women have equal rights and responsibilities in a household under Italian law.\",\n",
              "               'name': 'ask_worker',\n",
              "               'role': 'function'},\n",
              "              {'content': \"Yes, according to the laws mentioned, men and women have equal rights in a household:\\n\\n1. **Art. 143 of the Civil Code** specifies that both the husband and wife acquire the same rights and duties within the marriage. This includes mutual obligations for fidelity, moral and material support, collaboration in the interest of the family, and cohabitation.\\n\\n2. **Art. 45 of the Civil Code** updates the domicile rule, ensuring each spouse has their domicile, emphasizing equality in terms of residence and jurisdiction.\\n\\n3. **Art. 156 of the Civil Code** addresses the effects of separation on financial relations, ensuring the maintenance rights are determined based on the financial circumstances of both parties. It corrects past biases ensuring no overriding obligation based solely on gender.\\n\\n4. **Art. 540 of the Civil Code** ensures that upon the death of one spouse, the surviving spouse is entitled to half of the deceased spouse's estate, including rights to reside in the family home and use its furnishings.\\n\\nThese laws collectively ensure that men and women have equal rights and responsibilities in a household under Italian law.\\n\\nIf you have any more specific questions or need further details, feel free to ask! TERMINATE\",\n",
              "               'role': 'assistant'},\n",
              "              {'content': 'hello, how are you.', 'role': 'user'},\n",
              "              {'content': 'Hello! How can I assist you today? TERMINATE',\n",
              "               'role': 'assistant'},\n",
              "              {'content': 'i need to draft a lease agreement between two comanies. can you help me with that? Ask me good questions?',\n",
              "               'role': 'user'},\n",
              "              {'function_call': {'arguments': '{\"message\":\"The user needs to draft a lease agreement between two companies. Generate relevant questions to gather necessary requirements for drafting the lease agreement.\",\"message_type\":\"REQUIREMENT GATHERING\",\"retrival\":\"FALSE\"}',\n",
              "                'name': 'ask_worker'},\n",
              "               'content': None,\n",
              "               'role': 'assistant'},\n",
              "              {'content': '1. **Details of the Parties Involved:**\\n   - What is the legal name of the lessor (leasing company)?\\n   - What is the legal name of the lessee (tenant company)?\\n   - What are the official addresses of both the lessor and the lessee?\\n   - Who are the authorized representatives of both companies?\\n\\n2. **Property Details:**\\n   - What is the full address of the property to be leased?\\n   - Are there any specific areas or facilities included/excluded in the lease (e.g., parking, common areas)?\\n\\n3. **Term of Lease:**\\n   - What is the desired start date and end date of the lease?\\n   - Is there an option to renew the lease? If so, what are the terms for renewal?\\n\\n4. **Rent and Payment Terms:**\\n   - What is the monthly rent amount?\\n   - What is the due date for rent payments?\\n   - Are there any penalties for late rent payments?\\n   - What is the security deposit amount, and under what conditions will it be returned?\\n\\n5. **Maintenance and Repairs:**\\n   - Who is responsible for property maintenance and repairs?\\n   - Are there any specific maintenance obligations for the lessee?\\n\\n6. **Insurance:**\\n   - What type of insurance coverage is required, and who should bear the cost (lessor or lessee)?\\n\\n7. **Utilities and Other Costs:**\\n   - Who is responsible for utility payments (electricity, water, gas, etc.)?\\n   - Are there any other costs that should be specified (e.g., property taxes, service charges)?\\n\\n8. **Usage of the Property:**\\n   - What are the permitted uses of the property by the lessee?\\n   - Are there any prohibited activities or uses?\\n\\n9. **Subletting and Assignment:**\\n   - Are there any restrictions on subletting or assigning the lease to another party?\\n\\n10. **Termination Clauses:**\\n    - What are the conditions under which the lease can be terminated by either party?\\n    - What notice period is required for lease termination?\\n\\n11. **Dispute Resolution:**\\n    - What should be the process for handling disputes (e.g., mediation, arbitration)?\\n   \\n12. **Compliance with Laws:**\\n    - Are there any local, state, or federal laws or regulations that must be adhered to?\\n\\n13. **Additional Clauses:**\\n    - Are there any other specific terms or covenants that need to be included in the lease agreement?\\n\\nThese questions should cover the essential information needed to draft a comprehensive lease agreement between the two companies.',\n",
              "               'name': 'ask_worker',\n",
              "               'role': 'function'},\n",
              "              {'content': 'To draft a lease agreement between two companies, I need to gather some essential information. Please provide answers to the following questions:\\n\\n1. **Details of the Parties Involved:**\\n   - What is the legal name of the lessor (leasing company)?\\n   - What is the legal name of the lessee (tenant company)?\\n   - What are the official addresses of both the lessor and the lessee?\\n   - Who are the authorized representatives of both companies?\\n\\n2. **Property Details:**\\n   - What is the full address of the property to be leased?\\n   - Are there any specific areas or facilities included/excluded in the lease (e.g., parking, common areas)?\\n\\n3. **Term of Lease:**\\n   - What is the desired start date and end date of the lease?\\n   - Is there an option to renew the lease? If so, what are the terms for renewal?\\n\\n4. **Rent and Payment Terms:**\\n   - What is the monthly rent amount?\\n   - What is the due date for rent payments?\\n   - Are there any penalties for late rent payments?\\n   - What is the security deposit amount, and under what conditions will it be returned?\\n\\n5. **Maintenance and Repairs:**\\n   - Who is responsible for property maintenance and repairs?\\n   - Are there any specific maintenance obligations for the lessee?\\n\\n6. **Insurance:**\\n   - What type of insurance coverage is required, and who should bear the cost (lessor or lessee)?\\n\\n7. **Utilities and Other Costs:**\\n   - Who is responsible for utility payments (electricity, water, gas, etc.)?\\n   - Are there any other costs that should be specified (e.g., property taxes, service charges)?\\n\\n8. **Usage of the Property:**\\n   - What are the permitted uses of the property by the lessee?\\n   - Are there any prohibited activities or uses?\\n\\n9. **Subletting and Assignment:**\\n   - Are there any restrictions on subletting or assigning the lease to another party?\\n\\n10. **Termination Clauses:**\\n    - What are the conditions under which the lease can be terminated by either party?\\n    - What notice period is required for lease termination?\\n\\n11. **Dispute Resolution:**\\n    - What should be the process for handling disputes (e.g., mediation, arbitration)?\\n   \\n12. **Compliance with Laws:**\\n    - Are there any local, state, or federal laws or regulations that must be adhered to?\\n\\n13. **Additional Clauses:**\\n    - Are there any other specific terms or covenants that need to be included in the lease agreement?\\n\\nPlease provide the necessary details so I can assist you further. TERMINATE',\n",
              "               'role': 'assistant'}]})"
            ]
          },
          "execution_count": 39,
          "metadata": {},
          "output_type": "execute_result"
        }
      ],
      "source": [
        "assistant.chat_messages"
      ]
    },
    {
      "cell_type": "code",
      "execution_count": 50,
      "metadata": {
        "colab": {
          "base_uri": "https://localhost:8080/"
        },
        "id": "WhsIyyCga5X8",
        "outputId": "d64a99f9-2ccd-4ab6-9a2e-6b7fc15652de"
      },
      "outputs": [
        {
          "name": "stdout",
          "output_type": "stream",
          "text": [
            "Actual usage summary for assistant (excluding completion from cache): {'total_cost': 0.21608499999999997, 'gpt-4o-2024-05-13': {'cost': 0.21608499999999997, 'prompt_tokens': 35414, 'completion_tokens': 2601, 'total_tokens': 38015}}\n",
            "Total usage summary for assistant (including completion from cache): {'total_cost': 0.21608499999999997, 'gpt-4o-2024-05-13': {'cost': 0.21608499999999997, 'prompt_tokens': 35414, 'completion_tokens': 2601, 'total_tokens': 38015}}\n",
            "Actual usage summary for worker: {'total_cost': 0.011175, 'gpt-4o-2024-05-13': {'cost': 0.011175, 'prompt_tokens': 654, 'completion_tokens': 527, 'total_tokens': 1181}}\n",
            "Total usage summary for worker: {'total_cost': 0.053794999999999996, 'gpt-4o-2024-05-13': {'cost': 0.053794999999999996, 'prompt_tokens': 5464, 'completion_tokens': 1765, 'total_tokens': 7229}}\n",
            "[[0, 1331, 51, 'assistant'], [0, 1002, 483, 'SIMPLE QUESTION ANSWERING'], [29, 2942, 543, 'assistant'], [0, 1865, 223, 'SIMPLE QUESTION ANSWERING'], [45, 6567, 307, 'assistant'], [11, 654, 527, 'REQUIREMENT GATHERING'], [2067, 10359, 612, 'assistant'], [0, 654, 527, 'REQUIREMENT GATHERING'], [136, 9253, 587, 'assistant'], [0, 1289, 5, 'SIMPLE QUESTION ANSWERING']]\n"
          ]
        }
      ],
      "source": [
        "print(\"Actual usage summary for assistant (excluding completion from cache):\", assistant.get_actual_usage())\n",
        "print(\"Total usage summary for assistant (including completion from cache):\", assistant.get_total_usage())\n",
        "\n",
        "# print(\"Actual usage summary for worker_user:\", worker_user.get_actual_usage())\n",
        "# print(\"Total usage summary for worker_user:\", worker_user.get_total_usage())\n",
        "\n",
        "print(\"Actual usage summary for worker:\", worker.get_actual_usage())\n",
        "print(\"Total usage summary for worker:\", worker.get_total_usage())\n",
        "\n",
        "# print(\"Actual usage summary for user_proxy:\", user_proxy.get_actual_usage())\n",
        "# print(\"Total usage summary for user_proxy:\", user_proxy.get_total_usage())\n",
        "def display_prompt_length(data):\n",
        "    result = [[0,data[0][1],data[0][2],data[0][3]]]\n",
        "    #  [data[0]]  # Start with the first entry\n",
        "\n",
        "    # Track the last seen indices for 'assistant' and 'others'\n",
        "    last_assistant = data[0]\n",
        "    last_other = None\n",
        "\n",
        "    # Iterate over the data list starting from the second item\n",
        "    for i in range(1, len(data)):\n",
        "        if data[i][3] == 'assistant':\n",
        "            if last_assistant:\n",
        "                # print(last_assistant)\n",
        "                previous_first_index = last_assistant[1]\n",
        "                previous_second_index = last_assistant[2]\n",
        "\n",
        "                current_first_index = data[i][1]\n",
        "                current_second_index = data[i][2]\n",
        "\n",
        "                first_index_difference = current_first_index - previous_first_index\n",
        "                second_index_difference = current_second_index - previous_second_index\n",
        "                time_taken = (data[i][0] - data[i-1][0]).seconds\n",
        "                result.append([time_taken, first_index_difference, second_index_difference, data[i][3]])\n",
        "            last_assistant = data[i]\n",
        "        else:\n",
        "            time_taken = (data[i][0] - data[i-1][0]).seconds\n",
        "            if last_other:\n",
        "                previous_first_index = last_other[1]\n",
        "                previous_second_index = last_other[2]\n",
        "\n",
        "                current_first_index = data[i][1]\n",
        "                current_second_index = data[i][2]\n",
        "\n",
        "                first_index_difference = current_first_index - previous_first_index\n",
        "                second_index_difference = current_second_index - previous_second_index\n",
        "\n",
        "                result.append([time_taken, first_index_difference, second_index_difference, data[i][3]])\n",
        "            else:\n",
        "              result.append([time_taken,data[i][1],data[i][2],data[i][3]])\n",
        "            last_other = data[i]\n",
        "\n",
        "    return result\n",
        "\n",
        "print(display_prompt_length(timer_array))"
      ]
    },
    {
      "cell_type": "code",
      "execution_count": 51,
      "metadata": {
        "colab": {
          "base_uri": "https://localhost:8080/"
        },
        "id": "YMCjex830P2N",
        "outputId": "eac1b6e5-8f41-4132-b889-95346f29b923"
      },
      "outputs": [
        {
          "data": {
            "text/plain": [
              "{'total_cost': 0.26987999999999995,\n",
              " 'gpt-4o-2024-05-13': {'cost': 0.26987999999999995,\n",
              "  'prompt_tokens': 40878,\n",
              "  'completion_tokens': 4366,\n",
              "  'total_tokens': 45244}}"
            ]
          },
          "execution_count": 51,
          "metadata": {},
          "output_type": "execute_result"
        }
      ],
      "source": [
        "from autogen import AssistantAgent, OpenAIWrapper, UserProxyAgent, gather_usage_summary\n",
        "usage_summary = gather_usage_summary([assistant, worker])\n",
        "usage_summary[\"usage_including_cached_inference\"]"
      ]
    },
    {
      "cell_type": "markdown",
      "metadata": {
        "id": "ECKeuOBKj_7M"
      },
      "source": [
        "## Creating a second Assistant Agent to demonstrate chat continuance"
      ]
    },
    {
      "cell_type": "code",
      "execution_count": 52,
      "metadata": {
        "colab": {
          "base_uri": "https://localhost:8080/"
        },
        "id": "9Aenu3FEC3PS",
        "outputId": "c0b80604-015f-4a69-83e1-1bd59f5adb64"
      },
      "outputs": [
        {
          "name": "stdout",
          "output_type": "stream",
          "text": [
            "defaultdict(<class 'list'>, {})\n"
          ]
        },
        {
          "data": {
            "text/plain": [
              "defaultdict(list, {})"
            ]
          },
          "execution_count": 52,
          "metadata": {},
          "output_type": "execute_result"
        }
      ],
      "source": [
        "# create an AssistantAgent instance named \"assistant\"\n",
        "#  Your tasks:\n",
        "#     1. Identify the steps needed to solve the user's request.\n",
        "#     2. Assign each step to the ask_worker function, which will return the results upon task completion.\n",
        "#     3. Always use 'VERIFICATION' worker to verify each result from ask_worker function by giving it the task set out to do with what has been done to verify the task has been done correctly.\n",
        "#     4. Always use 'COMMUNICATION' worker to get you what to say to the user and enable you to directly communicate with user.\n",
        "\n",
        "\n",
        "# If you need to ask the user a question or you have finished the task, ensure everything is in English plus make sure you used 'COMMUNICATION' workers response only and add TERMINATE at the end.\n",
        "test_assistant_2 = autogen.AssistantAgent(\n",
        "   name=\"assistant\",\n",
        "    code_execution_config=False,\n",
        "    system_message=\n",
        "    \"\"\"\n",
        "    You are a Legal Assistant with advanced capabilities to solve complex problems. Your primary objective is to plan steps to appropriately solve users'\\\n",
        "     requests or tasks using worker function calling.\n",
        "\n",
        "    The main problems you will be solving include:\n",
        "    - Answering law questions\n",
        "\n",
        "    Available Workers:\n",
        "        - REQUIREMENT GATHERING - will enable you to ask relevant questions to the user based on the task\n",
        "        - SIMPLE QUESTION ANSWERING - will enable you to answer simple questions and law retrievals to the user based on the task\n",
        "\n",
        "    Your tasks:\n",
        "    1. Outline the steps required to address the user's request.\n",
        "    2. Use the `ask_worker` function to delegate each step, ensuring it returns the results upon task completion.\n",
        "    3. VERY IMPORTANT: Before you return any result ensure that you do not need worker skills to perform a task.\n",
        "\n",
        "    Key guidelines:\n",
        "    - ALWAYS use the ask_worker function for different tasks and send it only the most important instructions and commands.\n",
        "    - FORCE the ask_worker function to only give you the answer for your request without adding explanation or guidance what it achieved.\n",
        "    - Give the worker the advantage of article retrival where it will get the latest laws regarding the task and be able to accomplish the task.\n",
        "    - If the database retrieval does not provide important laws for the task, inform the user that you were not able to find the relevant law at that moment.\n",
        "    - If results are based on an article or law codes, mention the articles in your response and the worker's response so that the user can verify the information.\n",
        "    - DO NOT forget to put TERMINATE at the end, If you want feedback from user\n",
        "\n",
        "    Communication:\n",
        "    - Your answer should be constructed in the given language the user used to ask.\n",
        "    - Before responding to the user make sure you used all the skills the worker function provides.\n",
        "    - When communicating with the Worker make sure to send The most Important context to it.\n",
        "\n",
        "    If you need to ask the user a question or you have finished the task add TERMINATE at the end.\n",
        "    MUST - If the user send you an empty message just return your previous message and add TERMINATE at the end.\n",
        "    \"\"\",\n",
        "\n",
        "    llm_config={\n",
        "        \"temperature\": 0,\n",
        "        \"timeout\": 600,\n",
        "        \"cache_seed\": None,\n",
        "        \"config_list\": config_list,\n",
        "        \"functions\": [\n",
        "             {\n",
        "                        \"name\": \"ask_worker\",\n",
        "                        \"description\": \"ask worker to:  1. generate questions for requirement gathering, 2. retrieve relevant laws based on the topic sent as message\",\n",
        "                        \"parameters\": {\n",
        "                            \"type\": \"object\",\n",
        "                            \"properties\": {\n",
        "                                \"message\": {\n",
        "                                    \"type\": \"string\",\n",
        "                                    \"description\": \"question to ask worker. Make sure the question include enough context, such as the required task. The worker does not know the conversation between you and the user, unless you share the conversation with the worker. Ensure the original question of the user is also passed as context such that the worker is generating intermediate steps necessary to address it. It is VERY IMPORTANT that you provide a clear and autoritative feedback to the worker to stay focused on answering the original question. If the worker is wandering off from the mission, terminate!\"\n",
        "                                },\n",
        "                                \"message_type\": {\n",
        "                                    \"type\": \"string\",\n",
        "                                    \"description\": \"Type of work you want it to achieve. Options are: 'REQUIREMENT GATHERING','SIMPLE QUESTION ANSWERING'\"\n",
        "                                },\n",
        "                                \"retrival\":{\n",
        "                                    \"type\": \"string\",\n",
        "                                    \"description\": \"Becomes 'TRUE' or 'FALSE' which would indicate to perform retrieval of relevant articles from the law to achieve the task\"\n",
        "                                },\n",
        "                            },\n",
        "                            \"required\": [\"message\",\"message_type\",\"retrival\"]\n",
        "                        }\n",
        "                        }\n",
        "        ],\n",
        "    },\n",
        "\n",
        ")\n",
        "\n",
        "# def termination_msg(x):\n",
        "#     return isinstance(x, dict) and \"TERMINATE\" == str(x.get(\"content\", \"\"))[-9:].upper()\n",
        "\n",
        "\n",
        "# create a UserProxyAgent instance named \"user_proxy\"\n",
        "test_user_proxy_2 = autogen.UserProxyAgent(\n",
        "    name=\"user_proxy\",\n",
        "    is_termination_msg=termination_msg,\n",
        "    human_input_mode=\"TERMINATE\",\n",
        "    max_consecutive_auto_reply=3,\n",
        "    # is_termination_msg=lambda x: \"content\" in x and x[\"content\"] is not None and x[\"content\"].rstrip().endswith(\"TERMINATE\"),\n",
        "    # code_execution_config={\"work_dir\": \"planning\"},\n",
        "    function_map={\"ask_worker\": ask_worker },\n",
        "    # chat_messages=None\n",
        ")\n",
        "full_user_proxy_history = [messages for agent, messages in user_proxy.chat_messages.items()][0]\n",
        "full_assistance_history = [messages for agent, messages in assistant.chat_messages.items()][0]\n",
        "print(test_assistant_2.chat_messages)\n",
        "test_user_proxy_2.chat_messages"
      ]
    },
    {
      "cell_type": "code",
      "execution_count": 53,
      "metadata": {
        "colab": {
          "base_uri": "https://localhost:8080/"
        },
        "id": "kQJpleVhUKNc",
        "outputId": "40a1556d-eaab-49f3-a8bc-77106fbca056"
      },
      "outputs": [
        {
          "data": {
            "text/plain": [
              "1"
            ]
          },
          "execution_count": 53,
          "metadata": {},
          "output_type": "execute_result"
        }
      ],
      "source": [
        "from collections import defaultdict\n",
        "\n",
        "user_proxy_history = defaultdict(list, {\n",
        "    test_user_proxy_2: full_user_proxy_history\n",
        "})\n",
        "\n",
        "assistant_history = defaultdict(list, {\n",
        "    test_assistant_2: full_assistance_history\n",
        "})\n",
        "\n",
        "test_assistant_2._oai_messages = user_proxy_history\n",
        "test_user_proxy_2._oai_messages = assistant_history\n",
        "len(test_user_proxy_2.chat_messages)"
      ]
    },
    {
      "cell_type": "code",
      "execution_count": 55,
      "metadata": {
        "colab": {
          "base_uri": "https://localhost:8080/"
        },
        "id": "ITk1U7AiWMBl",
        "outputId": "50f8a92c-ee77-4401-e983-d4dad3aea92a"
      },
      "outputs": [
        {
          "data": {
            "text/plain": [
              "defaultdict(list,\n",
              "            {<autogen.agentchat.assistant_agent.AssistantAgent at 0x7e9d6384ab60>: [{'content': 'hello, how are you.',\n",
              "               'role': 'user'},\n",
              "              {'content': 'Hello! How can I assist you today? TERMINATE',\n",
              "               'role': 'assistant'},\n",
              "              {'content': 'what does the law say about civil rights and household rights ?',\n",
              "               'role': 'user'},\n",
              "              {'function_call': {'arguments': '{\"message\":\"What does the law say about civil rights and household rights?\",\"message_type\":\"SIMPLE QUESTION ANSWERING\",\"retrival\":\"TRUE\"}',\n",
              "                'name': 'ask_worker'},\n",
              "               'content': None,\n",
              "               'role': 'assistant'},\n",
              "              {'content': \"The Italian Civil Code outlines several important laws regarding civil rights and household rights. Here are the key points:\\n\\n1. **Diritti e doveri reciproci dei coniugi (Art. 143):**  \\n   - Both husband and wife acquire the same rights and responsibilities with marriage.\\n   - Marriage entails mutual obligations for fidelity, moral and material support, collaboration for the family's interest, and cohabitation.\\n   - Each spouse must contribute to the family's needs according to their own financial resources and professional or domestic work capacity.\\n\\n2. **Domicilio dei coniugi, del minore e dell'interdetto (Art. 45):**  \\n   - Each spouse has their own domicile at the place where they have established the main seat of their affairs or interests.\\n   - A minor has their domicile at the family's residence or the guardian's residence. In cases where parents are separated or the marriage is dissolved/annulled, the minor's domicile is with the parent they live with.\\n   - An interdicted person (someone legally incapacitated) has the domicile of their guardian.\\n\\n3. **Rapporti di lavoro domestico (Art. 203):**  \\n   - Provisions related to the employment relationship apply to domestic work in effect as of the day the Civil Code came into force.\\n\\n4. **Assegnazione della casa familiare e prescrizioni in tema di residenza (Art. 337-sexies):**  \\n   - The enjoyment of the family home is primarily based on the interests of the children.\\n   - The court considers this assignment during the regulation of economic relationships between parents, taking into account property ownership.\\n   - The right to enjoy the family home ceases if the assignee does not live or stops living permanently in the family house, cohabits more uxorio (in a marital-like relationship), or remarries.\\n   - The assignment and revocation orders are recordable and opposable to third parties under Article 2643.\\n   - In the presence of minor children, each parent must notify the other within thirty days of changing residence or domicile. Failure to notify results in the obligation to compensate for any damage to the other spouse or the children due to difficulty finding the parent.\\n\\nThese laws are designed to ensure fairness in marriage, responsibility in family contributions, clarity in domicile determination, and prioritization of children's interests in family housing arrangements.\",\n",
              "               'name': 'ask_worker',\n",
              "               'role': 'function'},\n",
              "              {'content': \"The law outlines several important aspects regarding civil rights and household rights. Here are the key points:\\n\\n1. **Diritti e doveri reciproci dei coniugi (Art. 143):**  \\n   - Both husband and wife acquire the same rights and responsibilities with marriage.\\n   - Marriage entails mutual obligations for fidelity, moral and material support, collaboration for the family's interest, and cohabitation.\\n   - Each spouse must contribute to the family's needs according to their own financial resources and professional or domestic work capacity.\\n\\n2. **Domicilio dei coniugi, del minore e dell'interdetto (Art. 45):**  \\n   - Each spouse has their own domicile at the place where they have established the main seat of their affairs or interests.\\n   - A minor has their domicile at the family's residence or the guardian's residence. In cases where parents are separated or the marriage is dissolved/annulled, the minor's domicile is with the parent they live with.\\n   - An interdicted person (someone legally incapacitated) has the domicile of their guardian.\\n\\n3. **Rapporti di lavoro domestico (Art. 203):**  \\n   - Provisions related to the employment relationship apply to domestic work in effect as of the day the Civil Code came into force.\\n\\n4. **Assegnazione della casa familiare e prescrizioni in tema di residenza (Art. 337-sexies):**  \\n   - The enjoyment of the family home is primarily based on the interests of the children.\\n   - The court considers this assignment during the regulation of economic relationships between parents, taking into account property ownership.\\n   - The right to enjoy the family home ceases if the assignee does not live or stops living permanently in the family house, cohabits more uxorio (in a marital-like relationship), or remarries.\\n   - The assignment and revocation orders are recordable and opposable to third parties under Article 2643.\\n   - In the presence of minor children, each parent must notify the other within thirty days of changing residence or domicile. Failure to notify results in the obligation to compensate for any damage to the other spouse or the children due to difficulty finding the parent.\\n\\nThese laws are designed to ensure fairness in marriage, responsibility in family contributions, clarity in domicile determination, and prioritization of children's interests in family housing arrangements.\\n\\nIf you have any more specific questions or need further details, feel free to ask! TERMINATE\",\n",
              "               'role': 'assistant'},\n",
              "              {'content': 'So Does Men and Women have equal rights in a household?',\n",
              "               'role': 'user'},\n",
              "              {'function_call': {'arguments': '{\"message\":\"Do men and women have equal rights in a household according to the law?\",\"message_type\":\"SIMPLE QUESTION ANSWERING\",\"retrival\":\"TRUE\"}',\n",
              "                'name': 'ask_worker'},\n",
              "               'content': None,\n",
              "               'role': 'assistant'},\n",
              "              {'content': \"Yes, according to the laws mentioned, men and women have equal rights in a household:\\n\\n1. **Art. 143 of the Civil Code** specifies that both the husband and wife acquire the same rights and duties within the marriage. This includes mutual obligations for fidelity, moral and material support, collaboration in the interest of the family, and cohabitation.\\n\\n2. **Art. 45 of the Civil Code** updates the domicile rule, ensuring each spouse has their domicile, emphasizing equality in terms of residence and jurisdiction.\\n\\n3. **Art. 156 of the Civil Code** addresses the effects of separation on financial relations, ensuring the maintenance rights are determined based on the financial circumstances of both parties. It corrects past biases ensuring no overriding obligation based solely on gender.\\n\\n4. **Art. 540 of the Civil Code** ensures that upon the death of one spouse, the surviving spouse is entitled to half of the deceased spouse's estate, including rights to reside in the family home and use its furnishings.\\n\\nThese laws collectively ensure that men and women have equal rights and responsibilities in a household under Italian law.\",\n",
              "               'name': 'ask_worker',\n",
              "               'role': 'function'},\n",
              "              {'content': \"Yes, according to the laws mentioned, men and women have equal rights in a household:\\n\\n1. **Art. 143 of the Civil Code** specifies that both the husband and wife acquire the same rights and duties within the marriage. This includes mutual obligations for fidelity, moral and material support, collaboration in the interest of the family, and cohabitation.\\n\\n2. **Art. 45 of the Civil Code** updates the domicile rule, ensuring each spouse has their domicile, emphasizing equality in terms of residence and jurisdiction.\\n\\n3. **Art. 156 of the Civil Code** addresses the effects of separation on financial relations, ensuring the maintenance rights are determined based on the financial circumstances of both parties. It corrects past biases ensuring no overriding obligation based solely on gender.\\n\\n4. **Art. 540 of the Civil Code** ensures that upon the death of one spouse, the surviving spouse is entitled to half of the deceased spouse's estate, including rights to reside in the family home and use its furnishings.\\n\\nThese laws collectively ensure that men and women have equal rights and responsibilities in a household under Italian law.\\n\\nIf you have any more specific questions or need further details, feel free to ask! TERMINATE\",\n",
              "               'role': 'assistant'},\n",
              "              {'content': 'hello, how are you.', 'role': 'user'},\n",
              "              {'content': 'Hello! How can I assist you today? TERMINATE',\n",
              "               'role': 'assistant'},\n",
              "              {'content': 'i need to draft a lease agreement between two comanies. can you help me with that? Ask me good questions?',\n",
              "               'role': 'user'},\n",
              "              {'function_call': {'arguments': '{\"message\":\"The user needs to draft a lease agreement between two companies. Generate relevant questions to gather necessary requirements for drafting the lease agreement.\",\"message_type\":\"REQUIREMENT GATHERING\",\"retrival\":\"FALSE\"}',\n",
              "                'name': 'ask_worker'},\n",
              "               'content': None,\n",
              "               'role': 'assistant'},\n",
              "              {'content': '1. **Details of the Parties Involved:**\\n   - What is the legal name of the lessor (leasing company)?\\n   - What is the legal name of the lessee (tenant company)?\\n   - What are the official addresses of both the lessor and the lessee?\\n   - Who are the authorized representatives of both companies?\\n\\n2. **Property Details:**\\n   - What is the full address of the property to be leased?\\n   - Are there any specific areas or facilities included/excluded in the lease (e.g., parking, common areas)?\\n\\n3. **Term of Lease:**\\n   - What is the desired start date and end date of the lease?\\n   - Is there an option to renew the lease? If so, what are the terms for renewal?\\n\\n4. **Rent and Payment Terms:**\\n   - What is the monthly rent amount?\\n   - What is the due date for rent payments?\\n   - Are there any penalties for late rent payments?\\n   - What is the security deposit amount, and under what conditions will it be returned?\\n\\n5. **Maintenance and Repairs:**\\n   - Who is responsible for property maintenance and repairs?\\n   - Are there any specific maintenance obligations for the lessee?\\n\\n6. **Insurance:**\\n   - What type of insurance coverage is required, and who should bear the cost (lessor or lessee)?\\n\\n7. **Utilities and Other Costs:**\\n   - Who is responsible for utility payments (electricity, water, gas, etc.)?\\n   - Are there any other costs that should be specified (e.g., property taxes, service charges)?\\n\\n8. **Usage of the Property:**\\n   - What are the permitted uses of the property by the lessee?\\n   - Are there any prohibited activities or uses?\\n\\n9. **Subletting and Assignment:**\\n   - Are there any restrictions on subletting or assigning the lease to another party?\\n\\n10. **Termination Clauses:**\\n    - What are the conditions under which the lease can be terminated by either party?\\n    - What notice period is required for lease termination?\\n\\n11. **Dispute Resolution:**\\n    - What should be the process for handling disputes (e.g., mediation, arbitration)?\\n   \\n12. **Compliance with Laws:**\\n    - Are there any local, state, or federal laws or regulations that must be adhered to?\\n\\n13. **Additional Clauses:**\\n    - Are there any other specific terms or covenants that need to be included in the lease agreement?\\n\\nThese questions should cover the essential information needed to draft a comprehensive lease agreement between the two companies.',\n",
              "               'name': 'ask_worker',\n",
              "               'role': 'function'},\n",
              "              {'content': 'To draft a lease agreement between two companies, I need to gather some essential information. Please provide answers to the following questions:\\n\\n1. **Details of the Parties Involved:**\\n   - What is the legal name of the lessor (leasing company)?\\n   - What is the legal name of the lessee (tenant company)?\\n   - What are the official addresses of both the lessor and the lessee?\\n   - Who are the authorized representatives of both companies?\\n\\n2. **Property Details:**\\n   - What is the full address of the property to be leased?\\n   - Are there any specific areas or facilities included/excluded in the lease (e.g., parking, common areas)?\\n\\n3. **Term of Lease:**\\n   - What is the desired start date and end date of the lease?\\n   - Is there an option to renew the lease? If so, what are the terms for renewal?\\n\\n4. **Rent and Payment Terms:**\\n   - What is the monthly rent amount?\\n   - What is the due date for rent payments?\\n   - Are there any penalties for late rent payments?\\n   - What is the security deposit amount, and under what conditions will it be returned?\\n\\n5. **Maintenance and Repairs:**\\n   - Who is responsible for property maintenance and repairs?\\n   - Are there any specific maintenance obligations for the lessee?\\n\\n6. **Insurance:**\\n   - What type of insurance coverage is required, and who should bear the cost (lessor or lessee)?\\n\\n7. **Utilities and Other Costs:**\\n   - Who is responsible for utility payments (electricity, water, gas, etc.)?\\n   - Are there any other costs that should be specified (e.g., property taxes, service charges)?\\n\\n8. **Usage of the Property:**\\n   - What are the permitted uses of the property by the lessee?\\n   - Are there any prohibited activities or uses?\\n\\n9. **Subletting and Assignment:**\\n   - Are there any restrictions on subletting or assigning the lease to another party?\\n\\n10. **Termination Clauses:**\\n    - What are the conditions under which the lease can be terminated by either party?\\n    - What notice period is required for lease termination?\\n\\n11. **Dispute Resolution:**\\n    - What should be the process for handling disputes (e.g., mediation, arbitration)?\\n   \\n12. **Compliance with Laws:**\\n    - Are there any local, state, or federal laws or regulations that must be adhered to?\\n\\n13. **Additional Clauses:**\\n    - Are there any other specific terms or covenants that need to be included in the lease agreement?\\n\\nPlease provide the necessary details so I can assist you further. TERMINATE',\n",
              "               'role': 'assistant'},\n",
              "              {'content': 'So Does Men and Women have equal rights in a household?',\n",
              "               'role': 'assistant'},\n",
              "              {'content': \"Yes, according to the laws mentioned, men and women have equal rights in a household:\\n\\n1. **Art. 143 of the Civil Code** specifies that both the husband and wife acquire the same rights and duties within the marriage. This includes mutual obligations for fidelity, moral and material support, collaboration in the interest of the family, and cohabitation.\\n\\n2. **Art. 45 of the Civil Code** updates the domicile rule, ensuring each spouse has their domicile, emphasizing equality in terms of residence and jurisdiction.\\n\\n3. **Art. 156 of the Civil Code** addresses the effects of separation on financial relations, ensuring the maintenance rights are determined based on the financial circumstances of both parties. It corrects past biases ensuring no overriding obligation based solely on gender.\\n\\n4. **Art. 540 of the Civil Code** ensures that upon the death of one spouse, the surviving spouse is entitled to half of the deceased spouse's estate, including rights to reside in the family home and use its furnishings.\\n\\nThese laws collectively ensure that men and women have equal rights and responsibilities in a household under Italian law.\\n\\nIf you have any more specific questions or need further details, feel free to ask! TERMINATE\",\n",
              "               'role': 'user'},\n",
              "              {'content': 'hello, how are you.', 'role': 'user'},\n",
              "              {'content': 'Hello! How can I assist you today? TERMINATE',\n",
              "               'role': 'assistant'},\n",
              "              {'content': 'i need to draft a lease agreement between two comanies. can you help me with that? Ask me good questions?',\n",
              "               'role': 'user'},\n",
              "              {'function_call': {'arguments': '{\"message\":\"The user needs to draft a lease agreement between two companies. Generate relevant questions to gather necessary requirements for drafting the lease agreement.\",\"message_type\":\"REQUIREMENT GATHERING\",\"retrival\":\"FALSE\"}',\n",
              "                'name': 'ask_worker'},\n",
              "               'content': None,\n",
              "               'role': 'assistant'},\n",
              "              {'content': '1. **Details of the Parties Involved:**\\n   - What is the legal name of the lessor (leasing company)?\\n   - What is the legal name of the lessee (tenant company)?\\n   - What are the official addresses of both the lessor and the lessee?\\n   - Who are the authorized representatives of both companies?\\n\\n2. **Property Details:**\\n   - What is the full address of the property to be leased?\\n   - Are there any specific areas or facilities included/excluded in the lease (e.g., parking, common areas)?\\n\\n3. **Term of Lease:**\\n   - What is the desired start date and end date of the lease?\\n   - Is there an option to renew the lease? If so, what are the terms for renewal?\\n\\n4. **Rent and Payment Terms:**\\n   - What is the monthly rent amount?\\n   - What is the due date for rent payments?\\n   - Are there any penalties for late rent payments?\\n   - What is the security deposit amount, and under what conditions will it be returned?\\n\\n5. **Maintenance and Repairs:**\\n   - Who is responsible for property maintenance and repairs?\\n   - Are there any specific maintenance obligations for the lessee?\\n\\n6. **Insurance:**\\n   - What type of insurance coverage is required, and who should bear the cost (lessor or lessee)?\\n\\n7. **Utilities and Other Costs:**\\n   - Who is responsible for utility payments (electricity, water, gas, etc.)?\\n   - Are there any other costs that should be specified (e.g., property taxes, service charges)?\\n\\n8. **Usage of the Property:**\\n   - What are the permitted uses of the property by the lessee?\\n   - Are there any prohibited activities or uses?\\n\\n9. **Subletting and Assignment:**\\n   - Are there any restrictions on subletting or assigning the lease to another party?\\n\\n10. **Termination Clauses:**\\n    - What are the conditions under which the lease can be terminated by either party?\\n    - What notice period is required for lease termination?\\n\\n11. **Dispute Resolution:**\\n    - What should be the process for handling disputes (e.g., mediation, arbitration)?\\n   \\n12. **Compliance with Laws:**\\n    - Are there any local, state, or federal laws or regulations that must be adhered to?\\n\\n13. **Additional Clauses:**\\n    - Are there any other specific terms or covenants that need to be included in the lease agreement?\\n\\nThese questions should cover the essential information needed to draft a comprehensive lease agreement between the two companies.',\n",
              "               'name': 'ask_worker',\n",
              "               'role': 'function'},\n",
              "              {'content': 'To draft a lease agreement between two companies, I need to gather some essential information. Please provide answers to the following questions:\\n\\n1. **Details of the Parties Involved:**\\n   - What is the legal name of the lessor (leasing company)?\\n   - What is the legal name of the lessee (tenant company)?\\n   - What are the official addresses of both the lessor and the lessee?\\n   - Who are the authorized representatives of both companies?\\n\\n2. **Property Details:**\\n   - What is the full address of the property to be leased?\\n   - Are there any specific areas or facilities included/excluded in the lease (e.g., parking, common areas)?\\n\\n3. **Term of Lease:**\\n   - What is the desired start date and end date of the lease?\\n   - Is there an option to renew the lease? If so, what are the terms for renewal?\\n\\n4. **Rent and Payment Terms:**\\n   - What is the monthly rent amount?\\n   - What is the due date for rent payments?\\n   - Are there any penalties for late rent payments?\\n   - What is the security deposit amount, and under what conditions will it be returned?\\n\\n5. **Maintenance and Repairs:**\\n   - Who is responsible for property maintenance and repairs?\\n   - Are there any specific maintenance obligations for the lessee?\\n\\n6. **Insurance:**\\n   - What type of insurance coverage is required, and who should bear the cost (lessor or lessee)?\\n\\n7. **Utilities and Other Costs:**\\n   - Who is responsible for utility payments (electricity, water, gas, etc.)?\\n   - Are there any other costs that should be specified (e.g., property taxes, service charges)?\\n\\n8. **Usage of the Property:**\\n   - What are the permitted uses of the property by the lessee?\\n   - Are there any prohibited activities or uses?\\n\\n9. **Subletting and Assignment:**\\n   - Are there any restrictions on subletting or assigning the lease to another party?\\n\\n10. **Termination Clauses:**\\n    - What are the conditions under which the lease can be terminated by either party?\\n    - What notice period is required for lease termination?\\n\\n11. **Dispute Resolution:**\\n    - What should be the process for handling disputes (e.g., mediation, arbitration)?\\n   \\n12. **Compliance with Laws:**\\n    - Are there any local, state, or federal laws or regulations that must be adhered to?\\n\\n13. **Additional Clauses:**\\n    - Are there any other specific terms or covenants that need to be included in the lease agreement?\\n\\nPlease provide the necessary details so I can assist you further. TERMINATE',\n",
              "               'role': 'assistant'},\n",
              "              {'content': 'what does the law say about civil rights and household rights ?',\n",
              "               'role': 'user'},\n",
              "              {'function_call': {'arguments': '{\"message\":\"What does the law say about civil rights and household rights?\",\"message_type\":\"SIMPLE QUESTION ANSWERING\",\"retrival\":\"TRUE\"}',\n",
              "                'name': 'ask_worker'},\n",
              "               'content': None,\n",
              "               'role': 'assistant'},\n",
              "              {'content': 'Not relevant to you.',\n",
              "               'name': 'ask_worker',\n",
              "               'role': 'function'},\n",
              "              {'content': \"The law outlines several important aspects regarding civil rights and household rights. Here are the key points:\\n\\n1. **Diritti e doveri reciproci dei coniugi (Art. 143):**  \\n   - Both husband and wife acquire the same rights and responsibilities with marriage.\\n   - Marriage entails mutual obligations for fidelity, moral and material support, collaboration for the family's interest, and cohabitation.\\n   - Each spouse must contribute to the family's needs according to their own financial resources and professional or domestic work capacity.\\n\\n2. **Domicilio dei coniugi, del minore e dell'interdetto (Art. 45):**  \\n   - Each spouse has their own domicile at the place where they have established the main seat of their affairs or interests.\\n   - A minor has their domicile at the family's residence or the guardian's residence. In cases where parents are separated or the marriage is dissolved/annulled, the minor's domicile is with the parent they live with.\\n   - An interdicted person (someone legally incapacitated) has the domicile of their guardian.\\n\\n3. **Rapporti di lavoro domestico (Art. 203):**  \\n   - Provisions related to the employment relationship apply to domestic work in effect as of the day the Civil Code came into force.\\n\\n4. **Assegnazione della casa familiare e prescrizioni in tema di residenza (Art. 337-sexies):**  \\n   - The enjoyment of the family home is primarily based on the interests of the children.\\n   - The court considers this assignment during the regulation of economic relationships between parents, taking into account property ownership.\\n   - The right to enjoy the family home ceases if the assignee does not live or stops living permanently in the family house, cohabits more uxorio (in a marital-like relationship), or remarries.\\n   - The assignment and revocation orders are recordable and opposable to third parties under Article 2643.\\n   - In the presence of minor children, each parent must notify the other within thirty days of changing residence or domicile. Failure to notify results in the obligation to compensate for any damage to the other spouse or the children due to difficulty finding the parent.\\n\\nThese laws are designed to ensure fairness in marriage, responsibility in family contributions, clarity in domicile determination, and prioritization of children's interests in family housing arrangements.\\n\\nIf you have any more specific questions or need further details, feel free to ask! TERMINATE\",\n",
              "               'role': 'assistant'}]})"
            ]
          },
          "execution_count": 55,
          "metadata": {},
          "output_type": "execute_result"
        }
      ],
      "source": [
        "test_user_proxy_2.chat_messages"
      ]
    },
    {
      "cell_type": "code",
      "execution_count": 56,
      "metadata": {
        "colab": {
          "base_uri": "https://localhost:8080/"
        },
        "id": "u1Owy17KUg2a",
        "outputId": "a325ae8a-25bc-49b5-b14c-ca9e222e06df"
      },
      "outputs": [
        {
          "name": "stdout",
          "output_type": "stream",
          "text": [
            "user_proxy (to assistant):\n",
            "\n",
            "So Does Men and Women have equal rights in a household?\n",
            "\n",
            "--------------------------------------------------------------------------------\n",
            "assistant (to user_proxy):\n",
            "\n",
            "***** Suggested function call: ask_worker *****\n",
            "Arguments: \n",
            "{\"message\":\"Do men and women have equal rights in a household according to the law?\",\"message_type\":\"SIMPLE QUESTION ANSWERING\",\"retrival\":\"TRUE\"}\n",
            "***********************************************\n",
            "\n",
            "--------------------------------------------------------------------------------\n",
            "\n",
            ">>>>>>>> USING AUTO REPLY...\n",
            "\n",
            ">>>>>>>> EXECUTING FUNCTION ask_worker...\n",
            "************** SIMPLE QUESTION ANSWERING *************************\n",
            "Do men and women have equal rights in a household according to the law?\n",
            "TRUE\n",
            "retrival started\n",
            "retrival ended\n",
            " ************** Fully Prepared Worker Context *************************\n",
            "Do men and women have equal rights in a household according to the law?\n",
            " Important laws to achieve the tasks: [Document(page_content=\"Testo in vigore dal:\\n \\n\\xa020-9-1975\\n(CODICE CIVILE-art. 143)\\naggiornamenti all'articolo\\n Art. 143. \\n((Diritti e doveri reciproci dei coniugi.))\\n((Con il matrimonio il marito e la moglie acquistano gli stessi diritti e assumono i medesimi doveri. \\n Dal matrimonio deriva l'obbligo reciproco alla fedeltà, all'assistenza morale e materiale, alla collaborazione nell'interesse della famiglia e alla coabitazione. \\n Entrambi i coniugi sono tenuti, ciascuno in relazione alle proprie sostanze e alla propria capacità di lavoro professionale o casalingo, a contribuire ai bisogni della famiglia))\\n. \"), Document(page_content='Testo in vigore dal:\\n \\n\\xa022-7-1976\\n(CODICE CIVILE-art. 45)\\naggiornamenti all\\'articolo\\n Art. 45. \\n Domicilio dei coniugi, del minore e dell\\'interdetto. \\n Ciascuno dei coniugi ha il proprio domicilio nel luogo in cui ha stabilito la sede principale dei propri affari o interessi. \\n((45))\\n \\n Il minore ha il domicilio nel luogo di residenza della famiglia o quello del tutore. Se i genitori sono separati o il loro matrimonio è stato annullato o sciolto o ne sono cessati gli effetti civili o comunque non hanno la stessa residenza, il minore ha il domicilio del genitore con il quale convive. \\n L\\'interdetto ha il domicilio del tutore. \\n--------------\\nAGGIORNAMENTO (45)\\n La Corte Costituzionale, con sentenza 12-14 luglio 1976, n. 171 (in G.U. 1a s.s. 21/7/1976, n. 191) ha dichiarato \"l\\'illegittimità costituzionale dell\\'\\nart. 45 del codice civile\\n, \\nprimo comma\\n (nel testo anteriore alla sostituzione operata dall\\'\\nart. 1 della legge 19 maggio 1975, n. 151\\n), nella parte in cui, in caso di separazione di fatto dei coniugi ed ai fini della competenza per territorio nel giudizio di separazione, prevede che la moglie, la quale abbia fissato altrove la propria residenza, conservi legalmente il domicilio del marito\".'), Document(page_content='Testo in vigore dal:\\n \\n\\xa028-2-2023\\n(CODICE CIVILE-art. 156)\\naggiornamenti all\\'articolo\\n Art. 156. \\n Effetti della separazione sui rapporti patrimoniali tra i coniugi. \\n Il giudice, pronunziando la separazione, stabilisce a vantaggio del coniuge cui non sia addebitabile la separazione il diritto di ricevere dall\\'altro coniuge quanto è necessario al suo mantenimento, qualora egli non abbia adeguati redditi propri. \\n L\\'entità di tale somministrazione è determinata in relazione alle circostanze e ai redditi dell\\'obbligato. \\n Resta fermo l\\'obbligo di prestare gli alimenti di cui agli articoli 433 e seguenti. \\n((COMMA ABROGATO DAL \\nD.LGS. 10 OTTOBRE 2022, N. 149\\n, COME MODIFICATO DALLA \\nL. 29 DICEMBRE 2022, N. 197\\n))\\n. \\n((COMMA ABROGATO DAL \\nD.LGS. 10 OTTOBRE 2022, N. 149\\n, COME MODIFICATO DALLA \\nL. 29 DICEMBRE 2022, N. 197\\n))\\n. \\n((COMMA ABROGATO DAL \\nD.LGS. 10 OTTOBRE 2022, N. 149\\n, COME MODIFICATO DALLA \\nL. 29 DICEMBRE 2022, N. 197\\n))\\n. \\n Qualora sopravvengano giustificati motivi il giudice, su istanza di parte, può disporre la revoca o la modifica dei provvedimenti di cui ai commi precedenti. \\n-------------\\nAGGIORNAMENTO (8)\\n La Corte Costituzionale, con sentenza 4 - 23 maggio 1966, n. 46 (in G.U. 1a s.s. 28/5/1966, n. 131), ha dichiarato \"l\\'illegittimità costituzionale dell\\'\\nart. 156, primo comma, del Codice civile\\n, nella parte in cui pone a carico del marito, in regime di separazione consensuale senza colpa di nessuno dei coniugi, l\\'obbligo di somministrare alla moglie tutto ciò che è necessario ai bisogni della vita, indipendentemente dalle condizioni economiche di costei\". \\n-------------\\nAGGIORNAMENTO (18)\\n La Corte Costituzionale, con sentenza 24 giugno-13 luglio 1970, n. 128 (in G.U. 1a s.s. 15/7/1970, n. 177), ha dichiarato \"illegittimità costituzionale dell\\'\\nart. 156, quinto comma, del codice civile\\n, nella parte in cui esclude la pretesa della moglie a non usare il cognome del marito, in regime di separazione per colpa di quest\\'ultimo, nel caso che da quell\\'uso possa derivarle un pregiudizio\". \\n-------------\\nAGGIORNAMENTO (36)\\n La Corte Costituzionale, con sentenza 4 - 18 aprile 1974, n. 99 (in G.U. 1a s.s. 24/4/1974, n. 107), ha dichiarato \"l\\'illegittimità costituzionale dell\\'\\nart. 156, primo comma, del codice civile\\n nella parte in cui, disponendo che per i coniugi consensualmente separati perduri l\\'obbligo reciproco di fedeltà, non limita quest\\'ultimo al dovere di astenersi da quei comportamenti che, per il concorso di determinate circostanze, siano idonei a costituire ingiuria grave all\\'altro coniuge\". '), Document(page_content='Testo in vigore dal:\\n \\n\\xa020-9-1975\\n(CODICE CIVILE-art. 540)\\naggiornamenti all\\'articolo\\n Art. 540. \\n((Riserva a favore del coniuge.))\\n((A favore del coniuge è riservata la metà del patrimonio dell\\'altro coniuge, salve le disposizioni dell\\'articolo 542 per il caso di concorso con i figli. \\n Al coniuge, anche quando concorra con altri chiamati, sono riservati i diritti di abitazione sulla casa adibita a residenza familiare e di uso sui mobili che la corredano, se di proprietà del defunto o comuni. Tali diritti gravano sulla porzione disponibile e, qualora questa non sia sufficiente, per il rimanente sulla quota di riserva del coniuge ed eventualmente sulla quota riservata ai figli))\\n. \\n--------------\\nAGGIORNAMENTO (30)\\n La Corte Costituzionale, con sentenza 16 - 30 aprile 1973, n. 50 (in G.U. 1a s.s. 9/5/1973, n. 119), ha dichiarato l\\'illegittimità costituzionale, \"in applicazione dell\\'\\nart. 27 della legge 11 marzo 1953, n. 87\\n, degli \\nartt. 545\\n e \\n546 del codice civile\\n e, conseguentemente, degli artt. 538, 539 e 540 dello stesso codice nelle parti in cui fanno richiamo ai predetti artt. 545 e 546\". ')]\n",
            " ************** Fully Prepared Worker Context *************************\n",
            "user_proxy (to assistant):\n",
            "\n",
            "***** Response from calling function (ask_worker) *****\n",
            "Not relevant to you.\n",
            "*******************************************************\n",
            "\n",
            "--------------------------------------------------------------------------------\n",
            "assistant (to user_proxy):\n",
            "\n",
            "Yes, according to the laws mentioned, men and women have equal rights in a household:\n",
            "\n",
            "1. **Art. 143 of the Civil Code** specifies that both the husband and wife acquire the same rights and duties within the marriage. This includes mutual obligations for fidelity, moral and material support, collaboration in the interest of the family, and cohabitation.\n",
            "\n",
            "2. **Art. 45 of the Civil Code** updates the domicile rule, ensuring each spouse has their domicile, emphasizing equality in terms of residence and jurisdiction.\n",
            "\n",
            "3. **Art. 156 of the Civil Code** addresses the effects of separation on financial relations, ensuring the maintenance rights are determined based on the financial circumstances of both parties. It corrects past biases ensuring no overriding obligation based solely on gender.\n",
            "\n",
            "4. **Art. 540 of the Civil Code** ensures that upon the death of one spouse, the surviving spouse is entitled to half of the deceased spouse's estate, including rights to reside in the family home and use its furnishings.\n",
            "\n",
            "These laws collectively ensure that men and women have equal rights and responsibilities in a household under Italian law.\n",
            "\n",
            "If you have any more specific questions or need further details, feel free to ask! TERMINATE\n",
            "\n",
            "--------------------------------------------------------------------------------\n",
            "Please give feedback to assistant. Press enter or type 'exit' to stop the conversation: exit\n"
          ]
        },
        {
          "data": {
            "text/plain": [
              "ChatResult(chat_id=None, chat_history=[{'content': 'hello, how are you.', 'role': 'user'}, {'content': 'Hello! How can I assist you today? TERMINATE', 'role': 'assistant'}, {'content': 'what does the law say about civil rights and household rights ?', 'role': 'user'}, {'function_call': {'arguments': '{\"message\":\"What does the law say about civil rights and household rights?\",\"message_type\":\"SIMPLE QUESTION ANSWERING\",\"retrival\":\"TRUE\"}', 'name': 'ask_worker'}, 'content': None, 'role': 'assistant'}, {'content': \"The Italian Civil Code outlines several important laws regarding civil rights and household rights. Here are the key points:\\n\\n1. **Diritti e doveri reciproci dei coniugi (Art. 143):**  \\n   - Both husband and wife acquire the same rights and responsibilities with marriage.\\n   - Marriage entails mutual obligations for fidelity, moral and material support, collaboration for the family's interest, and cohabitation.\\n   - Each spouse must contribute to the family's needs according to their own financial resources and professional or domestic work capacity.\\n\\n2. **Domicilio dei coniugi, del minore e dell'interdetto (Art. 45):**  \\n   - Each spouse has their own domicile at the place where they have established the main seat of their affairs or interests.\\n   - A minor has their domicile at the family's residence or the guardian's residence. In cases where parents are separated or the marriage is dissolved/annulled, the minor's domicile is with the parent they live with.\\n   - An interdicted person (someone legally incapacitated) has the domicile of their guardian.\\n\\n3. **Rapporti di lavoro domestico (Art. 203):**  \\n   - Provisions related to the employment relationship apply to domestic work in effect as of the day the Civil Code came into force.\\n\\n4. **Assegnazione della casa familiare e prescrizioni in tema di residenza (Art. 337-sexies):**  \\n   - The enjoyment of the family home is primarily based on the interests of the children.\\n   - The court considers this assignment during the regulation of economic relationships between parents, taking into account property ownership.\\n   - The right to enjoy the family home ceases if the assignee does not live or stops living permanently in the family house, cohabits more uxorio (in a marital-like relationship), or remarries.\\n   - The assignment and revocation orders are recordable and opposable to third parties under Article 2643.\\n   - In the presence of minor children, each parent must notify the other within thirty days of changing residence or domicile. Failure to notify results in the obligation to compensate for any damage to the other spouse or the children due to difficulty finding the parent.\\n\\nThese laws are designed to ensure fairness in marriage, responsibility in family contributions, clarity in domicile determination, and prioritization of children's interests in family housing arrangements.\", 'name': 'ask_worker', 'role': 'function'}, {'content': \"The law outlines several important aspects regarding civil rights and household rights. Here are the key points:\\n\\n1. **Diritti e doveri reciproci dei coniugi (Art. 143):**  \\n   - Both husband and wife acquire the same rights and responsibilities with marriage.\\n   - Marriage entails mutual obligations for fidelity, moral and material support, collaboration for the family's interest, and cohabitation.\\n   - Each spouse must contribute to the family's needs according to their own financial resources and professional or domestic work capacity.\\n\\n2. **Domicilio dei coniugi, del minore e dell'interdetto (Art. 45):**  \\n   - Each spouse has their own domicile at the place where they have established the main seat of their affairs or interests.\\n   - A minor has their domicile at the family's residence or the guardian's residence. In cases where parents are separated or the marriage is dissolved/annulled, the minor's domicile is with the parent they live with.\\n   - An interdicted person (someone legally incapacitated) has the domicile of their guardian.\\n\\n3. **Rapporti di lavoro domestico (Art. 203):**  \\n   - Provisions related to the employment relationship apply to domestic work in effect as of the day the Civil Code came into force.\\n\\n4. **Assegnazione della casa familiare e prescrizioni in tema di residenza (Art. 337-sexies):**  \\n   - The enjoyment of the family home is primarily based on the interests of the children.\\n   - The court considers this assignment during the regulation of economic relationships between parents, taking into account property ownership.\\n   - The right to enjoy the family home ceases if the assignee does not live or stops living permanently in the family house, cohabits more uxorio (in a marital-like relationship), or remarries.\\n   - The assignment and revocation orders are recordable and opposable to third parties under Article 2643.\\n   - In the presence of minor children, each parent must notify the other within thirty days of changing residence or domicile. Failure to notify results in the obligation to compensate for any damage to the other spouse or the children due to difficulty finding the parent.\\n\\nThese laws are designed to ensure fairness in marriage, responsibility in family contributions, clarity in domicile determination, and prioritization of children's interests in family housing arrangements.\\n\\nIf you have any more specific questions or need further details, feel free to ask! TERMINATE\", 'role': 'assistant'}, {'content': 'So Does Men and Women have equal rights in a household?', 'role': 'user'}, {'function_call': {'arguments': '{\"message\":\"Do men and women have equal rights in a household according to the law?\",\"message_type\":\"SIMPLE QUESTION ANSWERING\",\"retrival\":\"TRUE\"}', 'name': 'ask_worker'}, 'content': None, 'role': 'assistant'}, {'content': \"Yes, according to the laws mentioned, men and women have equal rights in a household:\\n\\n1. **Art. 143 of the Civil Code** specifies that both the husband and wife acquire the same rights and duties within the marriage. This includes mutual obligations for fidelity, moral and material support, collaboration in the interest of the family, and cohabitation.\\n\\n2. **Art. 45 of the Civil Code** updates the domicile rule, ensuring each spouse has their domicile, emphasizing equality in terms of residence and jurisdiction.\\n\\n3. **Art. 156 of the Civil Code** addresses the effects of separation on financial relations, ensuring the maintenance rights are determined based on the financial circumstances of both parties. It corrects past biases ensuring no overriding obligation based solely on gender.\\n\\n4. **Art. 540 of the Civil Code** ensures that upon the death of one spouse, the surviving spouse is entitled to half of the deceased spouse's estate, including rights to reside in the family home and use its furnishings.\\n\\nThese laws collectively ensure that men and women have equal rights and responsibilities in a household under Italian law.\", 'name': 'ask_worker', 'role': 'function'}, {'content': \"Yes, according to the laws mentioned, men and women have equal rights in a household:\\n\\n1. **Art. 143 of the Civil Code** specifies that both the husband and wife acquire the same rights and duties within the marriage. This includes mutual obligations for fidelity, moral and material support, collaboration in the interest of the family, and cohabitation.\\n\\n2. **Art. 45 of the Civil Code** updates the domicile rule, ensuring each spouse has their domicile, emphasizing equality in terms of residence and jurisdiction.\\n\\n3. **Art. 156 of the Civil Code** addresses the effects of separation on financial relations, ensuring the maintenance rights are determined based on the financial circumstances of both parties. It corrects past biases ensuring no overriding obligation based solely on gender.\\n\\n4. **Art. 540 of the Civil Code** ensures that upon the death of one spouse, the surviving spouse is entitled to half of the deceased spouse's estate, including rights to reside in the family home and use its furnishings.\\n\\nThese laws collectively ensure that men and women have equal rights and responsibilities in a household under Italian law.\\n\\nIf you have any more specific questions or need further details, feel free to ask! TERMINATE\", 'role': 'assistant'}, {'content': 'hello, how are you.', 'role': 'user'}, {'content': 'Hello! How can I assist you today? TERMINATE', 'role': 'assistant'}, {'content': 'i need to draft a lease agreement between two comanies. can you help me with that? Ask me good questions?', 'role': 'user'}, {'function_call': {'arguments': '{\"message\":\"The user needs to draft a lease agreement between two companies. Generate relevant questions to gather necessary requirements for drafting the lease agreement.\",\"message_type\":\"REQUIREMENT GATHERING\",\"retrival\":\"FALSE\"}', 'name': 'ask_worker'}, 'content': None, 'role': 'assistant'}, {'content': '1. **Details of the Parties Involved:**\\n   - What is the legal name of the lessor (leasing company)?\\n   - What is the legal name of the lessee (tenant company)?\\n   - What are the official addresses of both the lessor and the lessee?\\n   - Who are the authorized representatives of both companies?\\n\\n2. **Property Details:**\\n   - What is the full address of the property to be leased?\\n   - Are there any specific areas or facilities included/excluded in the lease (e.g., parking, common areas)?\\n\\n3. **Term of Lease:**\\n   - What is the desired start date and end date of the lease?\\n   - Is there an option to renew the lease? If so, what are the terms for renewal?\\n\\n4. **Rent and Payment Terms:**\\n   - What is the monthly rent amount?\\n   - What is the due date for rent payments?\\n   - Are there any penalties for late rent payments?\\n   - What is the security deposit amount, and under what conditions will it be returned?\\n\\n5. **Maintenance and Repairs:**\\n   - Who is responsible for property maintenance and repairs?\\n   - Are there any specific maintenance obligations for the lessee?\\n\\n6. **Insurance:**\\n   - What type of insurance coverage is required, and who should bear the cost (lessor or lessee)?\\n\\n7. **Utilities and Other Costs:**\\n   - Who is responsible for utility payments (electricity, water, gas, etc.)?\\n   - Are there any other costs that should be specified (e.g., property taxes, service charges)?\\n\\n8. **Usage of the Property:**\\n   - What are the permitted uses of the property by the lessee?\\n   - Are there any prohibited activities or uses?\\n\\n9. **Subletting and Assignment:**\\n   - Are there any restrictions on subletting or assigning the lease to another party?\\n\\n10. **Termination Clauses:**\\n    - What are the conditions under which the lease can be terminated by either party?\\n    - What notice period is required for lease termination?\\n\\n11. **Dispute Resolution:**\\n    - What should be the process for handling disputes (e.g., mediation, arbitration)?\\n   \\n12. **Compliance with Laws:**\\n    - Are there any local, state, or federal laws or regulations that must be adhered to?\\n\\n13. **Additional Clauses:**\\n    - Are there any other specific terms or covenants that need to be included in the lease agreement?\\n\\nThese questions should cover the essential information needed to draft a comprehensive lease agreement between the two companies.', 'name': 'ask_worker', 'role': 'function'}, {'content': 'To draft a lease agreement between two companies, I need to gather some essential information. Please provide answers to the following questions:\\n\\n1. **Details of the Parties Involved:**\\n   - What is the legal name of the lessor (leasing company)?\\n   - What is the legal name of the lessee (tenant company)?\\n   - What are the official addresses of both the lessor and the lessee?\\n   - Who are the authorized representatives of both companies?\\n\\n2. **Property Details:**\\n   - What is the full address of the property to be leased?\\n   - Are there any specific areas or facilities included/excluded in the lease (e.g., parking, common areas)?\\n\\n3. **Term of Lease:**\\n   - What is the desired start date and end date of the lease?\\n   - Is there an option to renew the lease? If so, what are the terms for renewal?\\n\\n4. **Rent and Payment Terms:**\\n   - What is the monthly rent amount?\\n   - What is the due date for rent payments?\\n   - Are there any penalties for late rent payments?\\n   - What is the security deposit amount, and under what conditions will it be returned?\\n\\n5. **Maintenance and Repairs:**\\n   - Who is responsible for property maintenance and repairs?\\n   - Are there any specific maintenance obligations for the lessee?\\n\\n6. **Insurance:**\\n   - What type of insurance coverage is required, and who should bear the cost (lessor or lessee)?\\n\\n7. **Utilities and Other Costs:**\\n   - Who is responsible for utility payments (electricity, water, gas, etc.)?\\n   - Are there any other costs that should be specified (e.g., property taxes, service charges)?\\n\\n8. **Usage of the Property:**\\n   - What are the permitted uses of the property by the lessee?\\n   - Are there any prohibited activities or uses?\\n\\n9. **Subletting and Assignment:**\\n   - Are there any restrictions on subletting or assigning the lease to another party?\\n\\n10. **Termination Clauses:**\\n    - What are the conditions under which the lease can be terminated by either party?\\n    - What notice period is required for lease termination?\\n\\n11. **Dispute Resolution:**\\n    - What should be the process for handling disputes (e.g., mediation, arbitration)?\\n   \\n12. **Compliance with Laws:**\\n    - Are there any local, state, or federal laws or regulations that must be adhered to?\\n\\n13. **Additional Clauses:**\\n    - Are there any other specific terms or covenants that need to be included in the lease agreement?\\n\\nPlease provide the necessary details so I can assist you further. TERMINATE', 'role': 'assistant'}, {'content': 'So Does Men and Women have equal rights in a household?', 'role': 'assistant'}, {'content': \"Yes, according to the laws mentioned, men and women have equal rights in a household:\\n\\n1. **Art. 143 of the Civil Code** specifies that both the husband and wife acquire the same rights and duties within the marriage. This includes mutual obligations for fidelity, moral and material support, collaboration in the interest of the family, and cohabitation.\\n\\n2. **Art. 45 of the Civil Code** updates the domicile rule, ensuring each spouse has their domicile, emphasizing equality in terms of residence and jurisdiction.\\n\\n3. **Art. 156 of the Civil Code** addresses the effects of separation on financial relations, ensuring the maintenance rights are determined based on the financial circumstances of both parties. It corrects past biases ensuring no overriding obligation based solely on gender.\\n\\n4. **Art. 540 of the Civil Code** ensures that upon the death of one spouse, the surviving spouse is entitled to half of the deceased spouse's estate, including rights to reside in the family home and use its furnishings.\\n\\nThese laws collectively ensure that men and women have equal rights and responsibilities in a household under Italian law.\\n\\nIf you have any more specific questions or need further details, feel free to ask! TERMINATE\", 'role': 'user'}, {'content': 'hello, how are you.', 'role': 'user'}, {'content': 'Hello! How can I assist you today? TERMINATE', 'role': 'assistant'}, {'content': 'i need to draft a lease agreement between two comanies. can you help me with that? Ask me good questions?', 'role': 'user'}, {'function_call': {'arguments': '{\"message\":\"The user needs to draft a lease agreement between two companies. Generate relevant questions to gather necessary requirements for drafting the lease agreement.\",\"message_type\":\"REQUIREMENT GATHERING\",\"retrival\":\"FALSE\"}', 'name': 'ask_worker'}, 'content': None, 'role': 'assistant'}, {'content': '1. **Details of the Parties Involved:**\\n   - What is the legal name of the lessor (leasing company)?\\n   - What is the legal name of the lessee (tenant company)?\\n   - What are the official addresses of both the lessor and the lessee?\\n   - Who are the authorized representatives of both companies?\\n\\n2. **Property Details:**\\n   - What is the full address of the property to be leased?\\n   - Are there any specific areas or facilities included/excluded in the lease (e.g., parking, common areas)?\\n\\n3. **Term of Lease:**\\n   - What is the desired start date and end date of the lease?\\n   - Is there an option to renew the lease? If so, what are the terms for renewal?\\n\\n4. **Rent and Payment Terms:**\\n   - What is the monthly rent amount?\\n   - What is the due date for rent payments?\\n   - Are there any penalties for late rent payments?\\n   - What is the security deposit amount, and under what conditions will it be returned?\\n\\n5. **Maintenance and Repairs:**\\n   - Who is responsible for property maintenance and repairs?\\n   - Are there any specific maintenance obligations for the lessee?\\n\\n6. **Insurance:**\\n   - What type of insurance coverage is required, and who should bear the cost (lessor or lessee)?\\n\\n7. **Utilities and Other Costs:**\\n   - Who is responsible for utility payments (electricity, water, gas, etc.)?\\n   - Are there any other costs that should be specified (e.g., property taxes, service charges)?\\n\\n8. **Usage of the Property:**\\n   - What are the permitted uses of the property by the lessee?\\n   - Are there any prohibited activities or uses?\\n\\n9. **Subletting and Assignment:**\\n   - Are there any restrictions on subletting or assigning the lease to another party?\\n\\n10. **Termination Clauses:**\\n    - What are the conditions under which the lease can be terminated by either party?\\n    - What notice period is required for lease termination?\\n\\n11. **Dispute Resolution:**\\n    - What should be the process for handling disputes (e.g., mediation, arbitration)?\\n   \\n12. **Compliance with Laws:**\\n    - Are there any local, state, or federal laws or regulations that must be adhered to?\\n\\n13. **Additional Clauses:**\\n    - Are there any other specific terms or covenants that need to be included in the lease agreement?\\n\\nThese questions should cover the essential information needed to draft a comprehensive lease agreement between the two companies.', 'name': 'ask_worker', 'role': 'function'}, {'content': 'To draft a lease agreement between two companies, I need to gather some essential information. Please provide answers to the following questions:\\n\\n1. **Details of the Parties Involved:**\\n   - What is the legal name of the lessor (leasing company)?\\n   - What is the legal name of the lessee (tenant company)?\\n   - What are the official addresses of both the lessor and the lessee?\\n   - Who are the authorized representatives of both companies?\\n\\n2. **Property Details:**\\n   - What is the full address of the property to be leased?\\n   - Are there any specific areas or facilities included/excluded in the lease (e.g., parking, common areas)?\\n\\n3. **Term of Lease:**\\n   - What is the desired start date and end date of the lease?\\n   - Is there an option to renew the lease? If so, what are the terms for renewal?\\n\\n4. **Rent and Payment Terms:**\\n   - What is the monthly rent amount?\\n   - What is the due date for rent payments?\\n   - Are there any penalties for late rent payments?\\n   - What is the security deposit amount, and under what conditions will it be returned?\\n\\n5. **Maintenance and Repairs:**\\n   - Who is responsible for property maintenance and repairs?\\n   - Are there any specific maintenance obligations for the lessee?\\n\\n6. **Insurance:**\\n   - What type of insurance coverage is required, and who should bear the cost (lessor or lessee)?\\n\\n7. **Utilities and Other Costs:**\\n   - Who is responsible for utility payments (electricity, water, gas, etc.)?\\n   - Are there any other costs that should be specified (e.g., property taxes, service charges)?\\n\\n8. **Usage of the Property:**\\n   - What are the permitted uses of the property by the lessee?\\n   - Are there any prohibited activities or uses?\\n\\n9. **Subletting and Assignment:**\\n   - Are there any restrictions on subletting or assigning the lease to another party?\\n\\n10. **Termination Clauses:**\\n    - What are the conditions under which the lease can be terminated by either party?\\n    - What notice period is required for lease termination?\\n\\n11. **Dispute Resolution:**\\n    - What should be the process for handling disputes (e.g., mediation, arbitration)?\\n   \\n12. **Compliance with Laws:**\\n    - Are there any local, state, or federal laws or regulations that must be adhered to?\\n\\n13. **Additional Clauses:**\\n    - Are there any other specific terms or covenants that need to be included in the lease agreement?\\n\\nPlease provide the necessary details so I can assist you further. TERMINATE', 'role': 'assistant'}, {'content': 'what does the law say about civil rights and household rights ?', 'role': 'user'}, {'function_call': {'arguments': '{\"message\":\"What does the law say about civil rights and household rights?\",\"message_type\":\"SIMPLE QUESTION ANSWERING\",\"retrival\":\"TRUE\"}', 'name': 'ask_worker'}, 'content': None, 'role': 'assistant'}, {'content': 'Not relevant to you.', 'name': 'ask_worker', 'role': 'function'}, {'content': \"The law outlines several important aspects regarding civil rights and household rights. Here are the key points:\\n\\n1. **Diritti e doveri reciproci dei coniugi (Art. 143):**  \\n   - Both husband and wife acquire the same rights and responsibilities with marriage.\\n   - Marriage entails mutual obligations for fidelity, moral and material support, collaboration for the family's interest, and cohabitation.\\n   - Each spouse must contribute to the family's needs according to their own financial resources and professional or domestic work capacity.\\n\\n2. **Domicilio dei coniugi, del minore e dell'interdetto (Art. 45):**  \\n   - Each spouse has their own domicile at the place where they have established the main seat of their affairs or interests.\\n   - A minor has their domicile at the family's residence or the guardian's residence. In cases where parents are separated or the marriage is dissolved/annulled, the minor's domicile is with the parent they live with.\\n   - An interdicted person (someone legally incapacitated) has the domicile of their guardian.\\n\\n3. **Rapporti di lavoro domestico (Art. 203):**  \\n   - Provisions related to the employment relationship apply to domestic work in effect as of the day the Civil Code came into force.\\n\\n4. **Assegnazione della casa familiare e prescrizioni in tema di residenza (Art. 337-sexies):**  \\n   - The enjoyment of the family home is primarily based on the interests of the children.\\n   - The court considers this assignment during the regulation of economic relationships between parents, taking into account property ownership.\\n   - The right to enjoy the family home ceases if the assignee does not live or stops living permanently in the family house, cohabits more uxorio (in a marital-like relationship), or remarries.\\n   - The assignment and revocation orders are recordable and opposable to third parties under Article 2643.\\n   - In the presence of minor children, each parent must notify the other within thirty days of changing residence or domicile. Failure to notify results in the obligation to compensate for any damage to the other spouse or the children due to difficulty finding the parent.\\n\\nThese laws are designed to ensure fairness in marriage, responsibility in family contributions, clarity in domicile determination, and prioritization of children's interests in family housing arrangements.\\n\\nIf you have any more specific questions or need further details, feel free to ask! TERMINATE\", 'role': 'assistant'}, {'content': 'So Does Men and Women have equal rights in a household?', 'role': 'assistant'}, {'function_call': {'arguments': '{\"message\":\"Do men and women have equal rights in a household according to the law?\",\"message_type\":\"SIMPLE QUESTION ANSWERING\",\"retrival\":\"TRUE\"}', 'name': 'ask_worker'}, 'content': None, 'role': 'assistant'}, {'content': 'Not relevant to you.', 'name': 'ask_worker', 'role': 'function'}, {'content': \"Yes, according to the laws mentioned, men and women have equal rights in a household:\\n\\n1. **Art. 143 of the Civil Code** specifies that both the husband and wife acquire the same rights and duties within the marriage. This includes mutual obligations for fidelity, moral and material support, collaboration in the interest of the family, and cohabitation.\\n\\n2. **Art. 45 of the Civil Code** updates the domicile rule, ensuring each spouse has their domicile, emphasizing equality in terms of residence and jurisdiction.\\n\\n3. **Art. 156 of the Civil Code** addresses the effects of separation on financial relations, ensuring the maintenance rights are determined based on the financial circumstances of both parties. It corrects past biases ensuring no overriding obligation based solely on gender.\\n\\n4. **Art. 540 of the Civil Code** ensures that upon the death of one spouse, the surviving spouse is entitled to half of the deceased spouse's estate, including rights to reside in the family home and use its furnishings.\\n\\nThese laws collectively ensure that men and women have equal rights and responsibilities in a household under Italian law.\\n\\nIf you have any more specific questions or need further details, feel free to ask! TERMINATE\", 'role': 'user'}], summary=\"Yes, according to the laws mentioned, men and women have equal rights in a household:\\n\\n1. **Art. 143 of the Civil Code** specifies that both the husband and wife acquire the same rights and duties within the marriage. This includes mutual obligations for fidelity, moral and material support, collaboration in the interest of the family, and cohabitation.\\n\\n2. **Art. 45 of the Civil Code** updates the domicile rule, ensuring each spouse has their domicile, emphasizing equality in terms of residence and jurisdiction.\\n\\n3. **Art. 156 of the Civil Code** addresses the effects of separation on financial relations, ensuring the maintenance rights are determined based on the financial circumstances of both parties. It corrects past biases ensuring no overriding obligation based solely on gender.\\n\\n4. **Art. 540 of the Civil Code** ensures that upon the death of one spouse, the surviving spouse is entitled to half of the deceased spouse's estate, including rights to reside in the family home and use its furnishings.\\n\\nThese laws collectively ensure that men and women have equal rights and responsibilities in a household under Italian law.\\n\\nIf you have any more specific questions or need further details, feel free to ask! \", cost={'usage_including_cached_inference': {'total_cost': 0.05968999999999999, 'gpt-4o-2024-05-13': {'cost': 0.05968999999999999, 'prompt_tokens': 11083, 'completion_tokens': 285, 'total_tokens': 11368}}, 'usage_excluding_cached_inference': {'total_cost': 0.05968999999999999, 'gpt-4o-2024-05-13': {'cost': 0.05968999999999999, 'prompt_tokens': 11083, 'completion_tokens': 285, 'total_tokens': 11368}}}, human_input=['exit'])"
            ]
          },
          "execution_count": 56,
          "metadata": {},
          "output_type": "execute_result"
        }
      ],
      "source": [
        "test_user_proxy_2.initiate_chat(test_assistant_2, clear_history=False,message=\"So Does Men and Women have equal rights in a household?\")"
      ]
    },
    {
      "cell_type": "code",
      "execution_count": 57,
      "metadata": {
        "colab": {
          "base_uri": "https://localhost:8080/"
        },
        "id": "4BXSMrWgQnbH",
        "outputId": "3021f834-27a5-414e-e6e1-ba5c119f1ccd"
      },
      "outputs": [
        {
          "data": {
            "text/plain": [
              "defaultdict(list,\n",
              "            {<autogen.agentchat.assistant_agent.AssistantAgent at 0x7e9d6384ab60>: [{'content': 'hello, how are you.',\n",
              "               'role': 'user'},\n",
              "              {'content': 'Hello! How can I assist you today? TERMINATE',\n",
              "               'role': 'assistant'},\n",
              "              {'content': 'what does the law say about civil rights and household rights ?',\n",
              "               'role': 'user'},\n",
              "              {'function_call': {'arguments': '{\"message\":\"What does the law say about civil rights and household rights?\",\"message_type\":\"SIMPLE QUESTION ANSWERING\",\"retrival\":\"TRUE\"}',\n",
              "                'name': 'ask_worker'},\n",
              "               'content': None,\n",
              "               'role': 'assistant'},\n",
              "              {'content': \"The Italian Civil Code outlines several important laws regarding civil rights and household rights. Here are the key points:\\n\\n1. **Diritti e doveri reciproci dei coniugi (Art. 143):**  \\n   - Both husband and wife acquire the same rights and responsibilities with marriage.\\n   - Marriage entails mutual obligations for fidelity, moral and material support, collaboration for the family's interest, and cohabitation.\\n   - Each spouse must contribute to the family's needs according to their own financial resources and professional or domestic work capacity.\\n\\n2. **Domicilio dei coniugi, del minore e dell'interdetto (Art. 45):**  \\n   - Each spouse has their own domicile at the place where they have established the main seat of their affairs or interests.\\n   - A minor has their domicile at the family's residence or the guardian's residence. In cases where parents are separated or the marriage is dissolved/annulled, the minor's domicile is with the parent they live with.\\n   - An interdicted person (someone legally incapacitated) has the domicile of their guardian.\\n\\n3. **Rapporti di lavoro domestico (Art. 203):**  \\n   - Provisions related to the employment relationship apply to domestic work in effect as of the day the Civil Code came into force.\\n\\n4. **Assegnazione della casa familiare e prescrizioni in tema di residenza (Art. 337-sexies):**  \\n   - The enjoyment of the family home is primarily based on the interests of the children.\\n   - The court considers this assignment during the regulation of economic relationships between parents, taking into account property ownership.\\n   - The right to enjoy the family home ceases if the assignee does not live or stops living permanently in the family house, cohabits more uxorio (in a marital-like relationship), or remarries.\\n   - The assignment and revocation orders are recordable and opposable to third parties under Article 2643.\\n   - In the presence of minor children, each parent must notify the other within thirty days of changing residence or domicile. Failure to notify results in the obligation to compensate for any damage to the other spouse or the children due to difficulty finding the parent.\\n\\nThese laws are designed to ensure fairness in marriage, responsibility in family contributions, clarity in domicile determination, and prioritization of children's interests in family housing arrangements.\",\n",
              "               'name': 'ask_worker',\n",
              "               'role': 'function'},\n",
              "              {'content': \"The law outlines several important aspects regarding civil rights and household rights. Here are the key points:\\n\\n1. **Diritti e doveri reciproci dei coniugi (Art. 143):**  \\n   - Both husband and wife acquire the same rights and responsibilities with marriage.\\n   - Marriage entails mutual obligations for fidelity, moral and material support, collaboration for the family's interest, and cohabitation.\\n   - Each spouse must contribute to the family's needs according to their own financial resources and professional or domestic work capacity.\\n\\n2. **Domicilio dei coniugi, del minore e dell'interdetto (Art. 45):**  \\n   - Each spouse has their own domicile at the place where they have established the main seat of their affairs or interests.\\n   - A minor has their domicile at the family's residence or the guardian's residence. In cases where parents are separated or the marriage is dissolved/annulled, the minor's domicile is with the parent they live with.\\n   - An interdicted person (someone legally incapacitated) has the domicile of their guardian.\\n\\n3. **Rapporti di lavoro domestico (Art. 203):**  \\n   - Provisions related to the employment relationship apply to domestic work in effect as of the day the Civil Code came into force.\\n\\n4. **Assegnazione della casa familiare e prescrizioni in tema di residenza (Art. 337-sexies):**  \\n   - The enjoyment of the family home is primarily based on the interests of the children.\\n   - The court considers this assignment during the regulation of economic relationships between parents, taking into account property ownership.\\n   - The right to enjoy the family home ceases if the assignee does not live or stops living permanently in the family house, cohabits more uxorio (in a marital-like relationship), or remarries.\\n   - The assignment and revocation orders are recordable and opposable to third parties under Article 2643.\\n   - In the presence of minor children, each parent must notify the other within thirty days of changing residence or domicile. Failure to notify results in the obligation to compensate for any damage to the other spouse or the children due to difficulty finding the parent.\\n\\nThese laws are designed to ensure fairness in marriage, responsibility in family contributions, clarity in domicile determination, and prioritization of children's interests in family housing arrangements.\\n\\nIf you have any more specific questions or need further details, feel free to ask! TERMINATE\",\n",
              "               'role': 'assistant'},\n",
              "              {'content': 'So Does Men and Women have equal rights in a household?',\n",
              "               'role': 'user'},\n",
              "              {'function_call': {'arguments': '{\"message\":\"Do men and women have equal rights in a household according to the law?\",\"message_type\":\"SIMPLE QUESTION ANSWERING\",\"retrival\":\"TRUE\"}',\n",
              "                'name': 'ask_worker'},\n",
              "               'content': None,\n",
              "               'role': 'assistant'},\n",
              "              {'content': \"Yes, according to the laws mentioned, men and women have equal rights in a household:\\n\\n1. **Art. 143 of the Civil Code** specifies that both the husband and wife acquire the same rights and duties within the marriage. This includes mutual obligations for fidelity, moral and material support, collaboration in the interest of the family, and cohabitation.\\n\\n2. **Art. 45 of the Civil Code** updates the domicile rule, ensuring each spouse has their domicile, emphasizing equality in terms of residence and jurisdiction.\\n\\n3. **Art. 156 of the Civil Code** addresses the effects of separation on financial relations, ensuring the maintenance rights are determined based on the financial circumstances of both parties. It corrects past biases ensuring no overriding obligation based solely on gender.\\n\\n4. **Art. 540 of the Civil Code** ensures that upon the death of one spouse, the surviving spouse is entitled to half of the deceased spouse's estate, including rights to reside in the family home and use its furnishings.\\n\\nThese laws collectively ensure that men and women have equal rights and responsibilities in a household under Italian law.\",\n",
              "               'name': 'ask_worker',\n",
              "               'role': 'function'},\n",
              "              {'content': \"Yes, according to the laws mentioned, men and women have equal rights in a household:\\n\\n1. **Art. 143 of the Civil Code** specifies that both the husband and wife acquire the same rights and duties within the marriage. This includes mutual obligations for fidelity, moral and material support, collaboration in the interest of the family, and cohabitation.\\n\\n2. **Art. 45 of the Civil Code** updates the domicile rule, ensuring each spouse has their domicile, emphasizing equality in terms of residence and jurisdiction.\\n\\n3. **Art. 156 of the Civil Code** addresses the effects of separation on financial relations, ensuring the maintenance rights are determined based on the financial circumstances of both parties. It corrects past biases ensuring no overriding obligation based solely on gender.\\n\\n4. **Art. 540 of the Civil Code** ensures that upon the death of one spouse, the surviving spouse is entitled to half of the deceased spouse's estate, including rights to reside in the family home and use its furnishings.\\n\\nThese laws collectively ensure that men and women have equal rights and responsibilities in a household under Italian law.\\n\\nIf you have any more specific questions or need further details, feel free to ask! TERMINATE\",\n",
              "               'role': 'assistant'},\n",
              "              {'content': 'hello, how are you.', 'role': 'user'},\n",
              "              {'content': 'Hello! How can I assist you today? TERMINATE',\n",
              "               'role': 'assistant'},\n",
              "              {'content': 'i need to draft a lease agreement between two comanies. can you help me with that? Ask me good questions?',\n",
              "               'role': 'user'},\n",
              "              {'function_call': {'arguments': '{\"message\":\"The user needs to draft a lease agreement between two companies. Generate relevant questions to gather necessary requirements for drafting the lease agreement.\",\"message_type\":\"REQUIREMENT GATHERING\",\"retrival\":\"FALSE\"}',\n",
              "                'name': 'ask_worker'},\n",
              "               'content': None,\n",
              "               'role': 'assistant'},\n",
              "              {'content': '1. **Details of the Parties Involved:**\\n   - What is the legal name of the lessor (leasing company)?\\n   - What is the legal name of the lessee (tenant company)?\\n   - What are the official addresses of both the lessor and the lessee?\\n   - Who are the authorized representatives of both companies?\\n\\n2. **Property Details:**\\n   - What is the full address of the property to be leased?\\n   - Are there any specific areas or facilities included/excluded in the lease (e.g., parking, common areas)?\\n\\n3. **Term of Lease:**\\n   - What is the desired start date and end date of the lease?\\n   - Is there an option to renew the lease? If so, what are the terms for renewal?\\n\\n4. **Rent and Payment Terms:**\\n   - What is the monthly rent amount?\\n   - What is the due date for rent payments?\\n   - Are there any penalties for late rent payments?\\n   - What is the security deposit amount, and under what conditions will it be returned?\\n\\n5. **Maintenance and Repairs:**\\n   - Who is responsible for property maintenance and repairs?\\n   - Are there any specific maintenance obligations for the lessee?\\n\\n6. **Insurance:**\\n   - What type of insurance coverage is required, and who should bear the cost (lessor or lessee)?\\n\\n7. **Utilities and Other Costs:**\\n   - Who is responsible for utility payments (electricity, water, gas, etc.)?\\n   - Are there any other costs that should be specified (e.g., property taxes, service charges)?\\n\\n8. **Usage of the Property:**\\n   - What are the permitted uses of the property by the lessee?\\n   - Are there any prohibited activities or uses?\\n\\n9. **Subletting and Assignment:**\\n   - Are there any restrictions on subletting or assigning the lease to another party?\\n\\n10. **Termination Clauses:**\\n    - What are the conditions under which the lease can be terminated by either party?\\n    - What notice period is required for lease termination?\\n\\n11. **Dispute Resolution:**\\n    - What should be the process for handling disputes (e.g., mediation, arbitration)?\\n   \\n12. **Compliance with Laws:**\\n    - Are there any local, state, or federal laws or regulations that must be adhered to?\\n\\n13. **Additional Clauses:**\\n    - Are there any other specific terms or covenants that need to be included in the lease agreement?\\n\\nThese questions should cover the essential information needed to draft a comprehensive lease agreement between the two companies.',\n",
              "               'name': 'ask_worker',\n",
              "               'role': 'function'},\n",
              "              {'content': 'To draft a lease agreement between two companies, I need to gather some essential information. Please provide answers to the following questions:\\n\\n1. **Details of the Parties Involved:**\\n   - What is the legal name of the lessor (leasing company)?\\n   - What is the legal name of the lessee (tenant company)?\\n   - What are the official addresses of both the lessor and the lessee?\\n   - Who are the authorized representatives of both companies?\\n\\n2. **Property Details:**\\n   - What is the full address of the property to be leased?\\n   - Are there any specific areas or facilities included/excluded in the lease (e.g., parking, common areas)?\\n\\n3. **Term of Lease:**\\n   - What is the desired start date and end date of the lease?\\n   - Is there an option to renew the lease? If so, what are the terms for renewal?\\n\\n4. **Rent and Payment Terms:**\\n   - What is the monthly rent amount?\\n   - What is the due date for rent payments?\\n   - Are there any penalties for late rent payments?\\n   - What is the security deposit amount, and under what conditions will it be returned?\\n\\n5. **Maintenance and Repairs:**\\n   - Who is responsible for property maintenance and repairs?\\n   - Are there any specific maintenance obligations for the lessee?\\n\\n6. **Insurance:**\\n   - What type of insurance coverage is required, and who should bear the cost (lessor or lessee)?\\n\\n7. **Utilities and Other Costs:**\\n   - Who is responsible for utility payments (electricity, water, gas, etc.)?\\n   - Are there any other costs that should be specified (e.g., property taxes, service charges)?\\n\\n8. **Usage of the Property:**\\n   - What are the permitted uses of the property by the lessee?\\n   - Are there any prohibited activities or uses?\\n\\n9. **Subletting and Assignment:**\\n   - Are there any restrictions on subletting or assigning the lease to another party?\\n\\n10. **Termination Clauses:**\\n    - What are the conditions under which the lease can be terminated by either party?\\n    - What notice period is required for lease termination?\\n\\n11. **Dispute Resolution:**\\n    - What should be the process for handling disputes (e.g., mediation, arbitration)?\\n   \\n12. **Compliance with Laws:**\\n    - Are there any local, state, or federal laws or regulations that must be adhered to?\\n\\n13. **Additional Clauses:**\\n    - Are there any other specific terms or covenants that need to be included in the lease agreement?\\n\\nPlease provide the necessary details so I can assist you further. TERMINATE',\n",
              "               'role': 'assistant'},\n",
              "              {'content': 'So Does Men and Women have equal rights in a household?',\n",
              "               'role': 'assistant'},\n",
              "              {'content': \"Yes, according to the laws mentioned, men and women have equal rights in a household:\\n\\n1. **Art. 143 of the Civil Code** specifies that both the husband and wife acquire the same rights and duties within the marriage. This includes mutual obligations for fidelity, moral and material support, collaboration in the interest of the family, and cohabitation.\\n\\n2. **Art. 45 of the Civil Code** updates the domicile rule, ensuring each spouse has their domicile, emphasizing equality in terms of residence and jurisdiction.\\n\\n3. **Art. 156 of the Civil Code** addresses the effects of separation on financial relations, ensuring the maintenance rights are determined based on the financial circumstances of both parties. It corrects past biases ensuring no overriding obligation based solely on gender.\\n\\n4. **Art. 540 of the Civil Code** ensures that upon the death of one spouse, the surviving spouse is entitled to half of the deceased spouse's estate, including rights to reside in the family home and use its furnishings.\\n\\nThese laws collectively ensure that men and women have equal rights and responsibilities in a household under Italian law.\\n\\nIf you have any more specific questions or need further details, feel free to ask! TERMINATE\",\n",
              "               'role': 'user'},\n",
              "              {'content': 'hello, how are you.', 'role': 'user'},\n",
              "              {'content': 'Hello! How can I assist you today? TERMINATE',\n",
              "               'role': 'assistant'},\n",
              "              {'content': 'i need to draft a lease agreement between two comanies. can you help me with that? Ask me good questions?',\n",
              "               'role': 'user'},\n",
              "              {'function_call': {'arguments': '{\"message\":\"The user needs to draft a lease agreement between two companies. Generate relevant questions to gather necessary requirements for drafting the lease agreement.\",\"message_type\":\"REQUIREMENT GATHERING\",\"retrival\":\"FALSE\"}',\n",
              "                'name': 'ask_worker'},\n",
              "               'content': None,\n",
              "               'role': 'assistant'},\n",
              "              {'content': '1. **Details of the Parties Involved:**\\n   - What is the legal name of the lessor (leasing company)?\\n   - What is the legal name of the lessee (tenant company)?\\n   - What are the official addresses of both the lessor and the lessee?\\n   - Who are the authorized representatives of both companies?\\n\\n2. **Property Details:**\\n   - What is the full address of the property to be leased?\\n   - Are there any specific areas or facilities included/excluded in the lease (e.g., parking, common areas)?\\n\\n3. **Term of Lease:**\\n   - What is the desired start date and end date of the lease?\\n   - Is there an option to renew the lease? If so, what are the terms for renewal?\\n\\n4. **Rent and Payment Terms:**\\n   - What is the monthly rent amount?\\n   - What is the due date for rent payments?\\n   - Are there any penalties for late rent payments?\\n   - What is the security deposit amount, and under what conditions will it be returned?\\n\\n5. **Maintenance and Repairs:**\\n   - Who is responsible for property maintenance and repairs?\\n   - Are there any specific maintenance obligations for the lessee?\\n\\n6. **Insurance:**\\n   - What type of insurance coverage is required, and who should bear the cost (lessor or lessee)?\\n\\n7. **Utilities and Other Costs:**\\n   - Who is responsible for utility payments (electricity, water, gas, etc.)?\\n   - Are there any other costs that should be specified (e.g., property taxes, service charges)?\\n\\n8. **Usage of the Property:**\\n   - What are the permitted uses of the property by the lessee?\\n   - Are there any prohibited activities or uses?\\n\\n9. **Subletting and Assignment:**\\n   - Are there any restrictions on subletting or assigning the lease to another party?\\n\\n10. **Termination Clauses:**\\n    - What are the conditions under which the lease can be terminated by either party?\\n    - What notice period is required for lease termination?\\n\\n11. **Dispute Resolution:**\\n    - What should be the process for handling disputes (e.g., mediation, arbitration)?\\n   \\n12. **Compliance with Laws:**\\n    - Are there any local, state, or federal laws or regulations that must be adhered to?\\n\\n13. **Additional Clauses:**\\n    - Are there any other specific terms or covenants that need to be included in the lease agreement?\\n\\nThese questions should cover the essential information needed to draft a comprehensive lease agreement between the two companies.',\n",
              "               'name': 'ask_worker',\n",
              "               'role': 'function'},\n",
              "              {'content': 'To draft a lease agreement between two companies, I need to gather some essential information. Please provide answers to the following questions:\\n\\n1. **Details of the Parties Involved:**\\n   - What is the legal name of the lessor (leasing company)?\\n   - What is the legal name of the lessee (tenant company)?\\n   - What are the official addresses of both the lessor and the lessee?\\n   - Who are the authorized representatives of both companies?\\n\\n2. **Property Details:**\\n   - What is the full address of the property to be leased?\\n   - Are there any specific areas or facilities included/excluded in the lease (e.g., parking, common areas)?\\n\\n3. **Term of Lease:**\\n   - What is the desired start date and end date of the lease?\\n   - Is there an option to renew the lease? If so, what are the terms for renewal?\\n\\n4. **Rent and Payment Terms:**\\n   - What is the monthly rent amount?\\n   - What is the due date for rent payments?\\n   - Are there any penalties for late rent payments?\\n   - What is the security deposit amount, and under what conditions will it be returned?\\n\\n5. **Maintenance and Repairs:**\\n   - Who is responsible for property maintenance and repairs?\\n   - Are there any specific maintenance obligations for the lessee?\\n\\n6. **Insurance:**\\n   - What type of insurance coverage is required, and who should bear the cost (lessor or lessee)?\\n\\n7. **Utilities and Other Costs:**\\n   - Who is responsible for utility payments (electricity, water, gas, etc.)?\\n   - Are there any other costs that should be specified (e.g., property taxes, service charges)?\\n\\n8. **Usage of the Property:**\\n   - What are the permitted uses of the property by the lessee?\\n   - Are there any prohibited activities or uses?\\n\\n9. **Subletting and Assignment:**\\n   - Are there any restrictions on subletting or assigning the lease to another party?\\n\\n10. **Termination Clauses:**\\n    - What are the conditions under which the lease can be terminated by either party?\\n    - What notice period is required for lease termination?\\n\\n11. **Dispute Resolution:**\\n    - What should be the process for handling disputes (e.g., mediation, arbitration)?\\n   \\n12. **Compliance with Laws:**\\n    - Are there any local, state, or federal laws or regulations that must be adhered to?\\n\\n13. **Additional Clauses:**\\n    - Are there any other specific terms or covenants that need to be included in the lease agreement?\\n\\nPlease provide the necessary details so I can assist you further. TERMINATE',\n",
              "               'role': 'assistant'},\n",
              "              {'content': 'what does the law say about civil rights and household rights ?',\n",
              "               'role': 'user'},\n",
              "              {'function_call': {'arguments': '{\"message\":\"What does the law say about civil rights and household rights?\",\"message_type\":\"SIMPLE QUESTION ANSWERING\",\"retrival\":\"TRUE\"}',\n",
              "                'name': 'ask_worker'},\n",
              "               'content': None,\n",
              "               'role': 'assistant'},\n",
              "              {'content': 'Not relevant to you.',\n",
              "               'name': 'ask_worker',\n",
              "               'role': 'function'},\n",
              "              {'content': \"The law outlines several important aspects regarding civil rights and household rights. Here are the key points:\\n\\n1. **Diritti e doveri reciproci dei coniugi (Art. 143):**  \\n   - Both husband and wife acquire the same rights and responsibilities with marriage.\\n   - Marriage entails mutual obligations for fidelity, moral and material support, collaboration for the family's interest, and cohabitation.\\n   - Each spouse must contribute to the family's needs according to their own financial resources and professional or domestic work capacity.\\n\\n2. **Domicilio dei coniugi, del minore e dell'interdetto (Art. 45):**  \\n   - Each spouse has their own domicile at the place where they have established the main seat of their affairs or interests.\\n   - A minor has their domicile at the family's residence or the guardian's residence. In cases where parents are separated or the marriage is dissolved/annulled, the minor's domicile is with the parent they live with.\\n   - An interdicted person (someone legally incapacitated) has the domicile of their guardian.\\n\\n3. **Rapporti di lavoro domestico (Art. 203):**  \\n   - Provisions related to the employment relationship apply to domestic work in effect as of the day the Civil Code came into force.\\n\\n4. **Assegnazione della casa familiare e prescrizioni in tema di residenza (Art. 337-sexies):**  \\n   - The enjoyment of the family home is primarily based on the interests of the children.\\n   - The court considers this assignment during the regulation of economic relationships between parents, taking into account property ownership.\\n   - The right to enjoy the family home ceases if the assignee does not live or stops living permanently in the family house, cohabits more uxorio (in a marital-like relationship), or remarries.\\n   - The assignment and revocation orders are recordable and opposable to third parties under Article 2643.\\n   - In the presence of minor children, each parent must notify the other within thirty days of changing residence or domicile. Failure to notify results in the obligation to compensate for any damage to the other spouse or the children due to difficulty finding the parent.\\n\\nThese laws are designed to ensure fairness in marriage, responsibility in family contributions, clarity in domicile determination, and prioritization of children's interests in family housing arrangements.\\n\\nIf you have any more specific questions or need further details, feel free to ask! TERMINATE\",\n",
              "               'role': 'assistant'},\n",
              "              {'content': 'So Does Men and Women have equal rights in a household?',\n",
              "               'role': 'assistant'},\n",
              "              {'function_call': {'arguments': '{\"message\":\"Do men and women have equal rights in a household according to the law?\",\"message_type\":\"SIMPLE QUESTION ANSWERING\",\"retrival\":\"TRUE\"}',\n",
              "                'name': 'ask_worker'},\n",
              "               'content': None,\n",
              "               'role': 'assistant'},\n",
              "              {'content': 'Not relevant to you.',\n",
              "               'name': 'ask_worker',\n",
              "               'role': 'function'},\n",
              "              {'content': \"Yes, according to the laws mentioned, men and women have equal rights in a household:\\n\\n1. **Art. 143 of the Civil Code** specifies that both the husband and wife acquire the same rights and duties within the marriage. This includes mutual obligations for fidelity, moral and material support, collaboration in the interest of the family, and cohabitation.\\n\\n2. **Art. 45 of the Civil Code** updates the domicile rule, ensuring each spouse has their domicile, emphasizing equality in terms of residence and jurisdiction.\\n\\n3. **Art. 156 of the Civil Code** addresses the effects of separation on financial relations, ensuring the maintenance rights are determined based on the financial circumstances of both parties. It corrects past biases ensuring no overriding obligation based solely on gender.\\n\\n4. **Art. 540 of the Civil Code** ensures that upon the death of one spouse, the surviving spouse is entitled to half of the deceased spouse's estate, including rights to reside in the family home and use its furnishings.\\n\\nThese laws collectively ensure that men and women have equal rights and responsibilities in a household under Italian law.\\n\\nIf you have any more specific questions or need further details, feel free to ask! TERMINATE\",\n",
              "               'role': 'user'}]})"
            ]
          },
          "execution_count": 57,
          "metadata": {},
          "output_type": "execute_result"
        }
      ],
      "source": [
        "test_user_proxy_2._oai_messages"
      ]
    },
    {
      "cell_type": "markdown",
      "metadata": {
        "id": "ro5VsA36kQC3"
      },
      "source": [
        "## Future Works and Plans\n",
        "\n",
        "- Using other LLMs (other than OpenAI's)\n",
        "- Multimedia support espescially Voice (looking at GPT-4o)\n"
      ]
    }
  ],
  "metadata": {
    "colab": {
      "provenance": []
    },
    "kernelspec": {
      "display_name": "Python 3",
      "name": "python3"
    },
    "language_info": {
      "name": "python",
      "version": "3.12.3"
    },
    "widgets": {
      "application/vnd.jupyter.widget-state+json": {
        "34cceebab14c49fea1e1199cde1ff35e": {
          "model_module": "@jupyter-widgets/controls",
          "model_module_version": "1.5.0",
          "model_name": "DescriptionStyleModel",
          "state": {
            "_model_module": "@jupyter-widgets/controls",
            "_model_module_version": "1.5.0",
            "_model_name": "DescriptionStyleModel",
            "_view_count": null,
            "_view_module": "@jupyter-widgets/base",
            "_view_module_version": "1.2.0",
            "_view_name": "StyleView",
            "description_width": ""
          }
        },
        "a763e20d06594c029c9afa0a30feab51": {
          "model_module": "@jupyter-widgets/controls",
          "model_module_version": "1.5.0",
          "model_name": "TextModel",
          "state": {
            "_dom_classes": [],
            "_model_module": "@jupyter-widgets/controls",
            "_model_module_version": "1.5.0",
            "_model_name": "TextModel",
            "_view_count": null,
            "_view_module": "@jupyter-widgets/controls",
            "_view_module_version": "1.5.0",
            "_view_name": "TextView",
            "continuous_update": true,
            "description": "Chat:",
            "description_tooltip": null,
            "disabled": false,
            "layout": "IPY_MODEL_c5c46ef23730485d8fd3719f66339e8f",
            "placeholder": "Type your message",
            "style": "IPY_MODEL_34cceebab14c49fea1e1199cde1ff35e",
            "value": ""
          }
        },
        "b671edd5c9c441489ccbb630be24a0c3": {
          "model_module": "@jupyter-widgets/controls",
          "model_module_version": "1.5.0",
          "model_name": "TextModel",
          "state": {
            "_dom_classes": [],
            "_model_module": "@jupyter-widgets/controls",
            "_model_module_version": "1.5.0",
            "_model_name": "TextModel",
            "_view_count": null,
            "_view_module": "@jupyter-widgets/controls",
            "_view_module_version": "1.5.0",
            "_view_name": "TextView",
            "continuous_update": true,
            "description": "Chat:",
            "description_tooltip": null,
            "disabled": false,
            "layout": "IPY_MODEL_bc7d2978452643d0b29b97fc7c5b9c63",
            "placeholder": "Type your message",
            "style": "IPY_MODEL_d72f12771e0f4c16955354cf30d328ed",
            "value": "what does the law say about civil rights and household rights ?"
          }
        },
        "bc7d2978452643d0b29b97fc7c5b9c63": {
          "model_module": "@jupyter-widgets/base",
          "model_module_version": "1.2.0",
          "model_name": "LayoutModel",
          "state": {
            "_model_module": "@jupyter-widgets/base",
            "_model_module_version": "1.2.0",
            "_model_name": "LayoutModel",
            "_view_count": null,
            "_view_module": "@jupyter-widgets/base",
            "_view_module_version": "1.2.0",
            "_view_name": "LayoutView",
            "align_content": null,
            "align_items": null,
            "align_self": null,
            "border": null,
            "bottom": null,
            "display": null,
            "flex": null,
            "flex_flow": null,
            "grid_area": null,
            "grid_auto_columns": null,
            "grid_auto_flow": null,
            "grid_auto_rows": null,
            "grid_column": null,
            "grid_gap": null,
            "grid_row": null,
            "grid_template_areas": null,
            "grid_template_columns": null,
            "grid_template_rows": null,
            "height": null,
            "justify_content": null,
            "justify_items": null,
            "left": null,
            "margin": null,
            "max_height": null,
            "max_width": null,
            "min_height": null,
            "min_width": null,
            "object_fit": null,
            "object_position": null,
            "order": null,
            "overflow": null,
            "overflow_x": null,
            "overflow_y": null,
            "padding": null,
            "right": null,
            "top": null,
            "visibility": null,
            "width": null
          }
        },
        "c5c46ef23730485d8fd3719f66339e8f": {
          "model_module": "@jupyter-widgets/base",
          "model_module_version": "1.2.0",
          "model_name": "LayoutModel",
          "state": {
            "_model_module": "@jupyter-widgets/base",
            "_model_module_version": "1.2.0",
            "_model_name": "LayoutModel",
            "_view_count": null,
            "_view_module": "@jupyter-widgets/base",
            "_view_module_version": "1.2.0",
            "_view_name": "LayoutView",
            "align_content": null,
            "align_items": null,
            "align_self": null,
            "border": null,
            "bottom": null,
            "display": null,
            "flex": null,
            "flex_flow": null,
            "grid_area": null,
            "grid_auto_columns": null,
            "grid_auto_flow": null,
            "grid_auto_rows": null,
            "grid_column": null,
            "grid_gap": null,
            "grid_row": null,
            "grid_template_areas": null,
            "grid_template_columns": null,
            "grid_template_rows": null,
            "height": null,
            "justify_content": null,
            "justify_items": null,
            "left": null,
            "margin": null,
            "max_height": null,
            "max_width": null,
            "min_height": null,
            "min_width": null,
            "object_fit": null,
            "object_position": null,
            "order": null,
            "overflow": null,
            "overflow_x": null,
            "overflow_y": null,
            "padding": null,
            "right": null,
            "top": null,
            "visibility": null,
            "width": null
          }
        },
        "d72f12771e0f4c16955354cf30d328ed": {
          "model_module": "@jupyter-widgets/controls",
          "model_module_version": "1.5.0",
          "model_name": "DescriptionStyleModel",
          "state": {
            "_model_module": "@jupyter-widgets/controls",
            "_model_module_version": "1.5.0",
            "_model_name": "DescriptionStyleModel",
            "_view_count": null,
            "_view_module": "@jupyter-widgets/base",
            "_view_module_version": "1.2.0",
            "_view_name": "StyleView",
            "description_width": ""
          }
        }
      }
    }
  },
  "nbformat": 4,
  "nbformat_minor": 0
}
